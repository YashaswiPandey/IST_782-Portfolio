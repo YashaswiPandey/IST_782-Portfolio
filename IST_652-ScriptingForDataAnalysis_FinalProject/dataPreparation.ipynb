{
  "cells": [
    {
      "cell_type": "code",
      "execution_count": null,
      "metadata": {
        "id": "5-XYREOsKZuV",
        "outputId": "d42b6c50-6735-40e0-9589-3a6b142829eb"
      },
      "outputs": [],
      "source": [
        "\n",
        "# loading the required libraries needed for data analysis\n",
        "try:\n",
        "    import pandas as pd\n",
        "    import numpy as np\n",
        "    from mplsoccer import Sbopen\n",
        "    from statsbombpy import sb\n",
        "except:\n",
        "    %pip install mplsoccer\n",
        "    %pip install statsbombpy\n",
        "    import pandas as pd\n",
        "    import numpy as np\n",
        "    from mplsoccer import Sbopen\n",
        "    from statsbombpy import sb"
      ]
    },
    {
      "cell_type": "code",
      "execution_count": null,
      "metadata": {
        "id": "nj4ubVcMKZuY"
      },
      "outputs": [],
      "source": [
        "# loading statsbomb to extract data\n",
        "sbo=Sbopen()"
      ]
    },
    {
      "cell_type": "code",
      "execution_count": null,
      "metadata": {
        "id": "CAeQvmcoKZuY"
      },
      "outputs": [],
      "source": [
        "#Load the competition file\n",
        "competitions = sbo.competition()"
      ]
    },
    {
      "cell_type": "code",
      "execution_count": null,
      "metadata": {
        "id": "Di4kje-HKZuY",
        "outputId": "9adbba6d-e1fc-4ae5-872d-5645aa18e7c1"
      },
      "outputs": [],
      "source": [
        "competitions.head()"
      ]
    },
    {
      "cell_type": "code",
      "execution_count": null,
      "metadata": {
        "id": "eZbrpm4zKZuY"
      },
      "outputs": [],
      "source": [
        "# filtering La Liga matches from the entire data set\n",
        "laLiga = competitions[competitions['competition_name']=='La Liga'].reset_index()"
      ]
    },
    {
      "cell_type": "code",
      "execution_count": null,
      "metadata": {
        "id": "zMLwt8ODKZuZ",
        "outputId": "f5072374-217b-4257-ee6d-fb5ed9e0f282"
      },
      "outputs": [],
      "source": [
        "# frinting the first 5 rows of the LA Liga data\n",
        "laLiga.head()"
      ]
    },
    {
      "cell_type": "code",
      "execution_count": null,
      "metadata": {
        "id": "RsTrjXPdKZuZ"
      },
      "outputs": [],
      "source": [
        "# extracting the competition ID for La Laiga\n",
        "comp_id = laLiga['competition_id'][0]"
      ]
    },
    {
      "cell_type": "code",
      "execution_count": null,
      "metadata": {
        "id": "vWn7AWygKZuZ"
      },
      "outputs": [],
      "source": [
        "# filtering the years Messi played for Barcelona\n",
        "messiYears = list(range(2004,2022))"
      ]
    },
    {
      "cell_type": "code",
      "execution_count": null,
      "metadata": {
        "id": "q4sRsmYOKZuZ"
      },
      "outputs": [],
      "source": [
        "# extracting all the matches played by Messi\n",
        "messiLaLiga =[]\n",
        "messiSeasons =[]\n",
        "for y in messiYears:\n",
        "    for index, row in laLiga.iterrows():\n",
        "        if(str(y) in row['season_name']):\n",
        "            if(row['season_id'] in messiLaLiga):\n",
        "                pass\n",
        "            else:\n",
        "                messiLaLiga.append(row['season_id'])\n",
        "                messiSeasons.append(y)\n",
        "\n"
      ]
    },
    {
      "cell_type": "code",
      "execution_count": null,
      "metadata": {
        "id": "0eRltZMTKZuZ",
        "outputId": "ecc8edf5-40d5-4d13-d73f-09cd184d0672"
      },
      "outputs": [],
      "source": [
        "# the competition ID's where messi has played\n",
        "messiLaLiga"
      ]
    },
    {
      "cell_type": "code",
      "execution_count": null,
      "metadata": {
        "id": "HPq6UBXZKZuZ",
        "outputId": "8058dce9-645e-440e-e33a-a6e12268c85a"
      },
      "outputs": [],
      "source": [
        "# the Years where Messi has played\n",
        "messiSeasons"
      ]
    },
    {
      "cell_type": "code",
      "execution_count": null,
      "metadata": {
        "id": "q0vRmlCUKZua"
      },
      "outputs": [],
      "source": [
        "# extracting all the data with the given years and competition ID\n",
        "temp = sbo.match(competition_id=comp_id,season_id=1)"
      ]
    },
    {
      "cell_type": "code",
      "execution_count": null,
      "metadata": {
        "id": "A77yxWHtKZua",
        "outputId": "14688739-7ce3-4719-c999-83a23f909c0b"
      },
      "outputs": [],
      "source": [
        "#Load the list of matches for this competition\n",
        "col = temp.columns.tolist()\n",
        "matches = pd.DataFrame(columns=col)\n",
        "count = 0\n",
        "for i in messiLaLiga:\n",
        "    match = sbo.match(competition_id=comp_id,season_id=i)\n",
        "    match['season'] = messiSeasons[count]\n",
        "    count = count+1\n",
        "    matches = pd.concat([matches, match])"
      ]
    },
    {
      "cell_type": "code",
      "execution_count": null,
      "metadata": {
        "id": "n9RzWABkKZua",
        "outputId": "c07beb56-cbd6-43ee-c554-937d8a2e3b95"
      },
      "outputs": [],
      "source": [
        "matches.reset_index()"
      ]
    },
    {
      "cell_type": "code",
      "execution_count": null,
      "metadata": {
        "id": "FJEYuwjsKZua"
      },
      "outputs": [],
      "source": [
        "# extracting the column names\n",
        "col = matches.columns"
      ]
    },
    {
      "cell_type": "code",
      "execution_count": null,
      "metadata": {
        "id": "Qjl6Zz-8KZua"
      },
      "outputs": [],
      "source": [
        "# filtering the columns needed for analysis\n",
        "colKeep = ['match_id', 'match_date', 'match_week', 'season', 'home_score', 'away_score', 'home_team_name', 'home_team_managers_name'\n",
        "           , 'away_team_name', 'away_team_managers_name', 'stadium_name', 'referee_name']"
      ]
    },
    {
      "cell_type": "code",
      "execution_count": null,
      "metadata": {
        "id": "iHRr0QR0KZua"
      },
      "outputs": [],
      "source": [
        "# deleting the remaining columns from the data\n",
        "colDel = [x for x in col if x not in colKeep]"
      ]
    },
    {
      "cell_type": "code",
      "execution_count": null,
      "metadata": {
        "id": "Y8ST9-NuKZua"
      },
      "outputs": [],
      "source": [
        "matches = matches.drop(colDel,axis=1)"
      ]
    },
    {
      "cell_type": "code",
      "execution_count": null,
      "metadata": {
        "id": "uNKelZ9RKZua"
      },
      "outputs": [],
      "source": [
        "# filtering Barcelona's matches from the dataset\n",
        "barca = matches[(matches['home_team_name']=='Barcelona') | (matches['away_team_name'] == 'Barcelona')]"
      ]
    },
    {
      "cell_type": "code",
      "execution_count": null,
      "metadata": {
        "id": "bk_7qgvRKZua",
        "outputId": "d0e4da95-675c-46c7-e38f-143a3262bef2"
      },
      "outputs": [],
      "source": [
        "barca\n"
      ]
    },
    {
      "cell_type": "code",
      "execution_count": null,
      "metadata": {
        "id": "-BkDbbf8KZua"
      },
      "outputs": [],
      "source": [
        "# extracting the home team manager, away team manager, home team, away team , stadium, and refree\n",
        "manager=[]\n",
        "oppManager=[]\n",
        "homeTeam = []\n",
        "awayTeam = []\n",
        "stadium =[]\n",
        "referee=[]\n",
        "for index,row in barca.iterrows():\n",
        "    if((type(row['home_team_managers_name'])==str)):\n",
        "        if(row['home_team_name']=='Barcelona'):\n",
        "            manager.append(row['home_team_managers_name'])\n",
        "        else:\n",
        "            manager.append(row['away_team_managers_name'])\n",
        "    else:\n",
        "        manager.append('')\n",
        "    if((type(row['home_team_managers_name'])==str)):\n",
        "        if(row['home_team_name']=='Barcelona'):\n",
        "            oppManager.append(row['away_team_managers_name'])\n",
        "        else:\n",
        "            oppManager.append(row['home_team_managers_name'])\n",
        "    else:\n",
        "        oppManager.append('')\n"
      ]
    },
    {
      "cell_type": "code",
      "execution_count": null,
      "metadata": {
        "id": "1dUhaUi2KZub",
        "outputId": "e3454d5e-c801-4075-90bf-5d3341b9dc98"
      },
      "outputs": [],
      "source": [
        "manager"
      ]
    },
    {
      "cell_type": "code",
      "execution_count": null,
      "metadata": {
        "id": "_c1RQl6mKZub"
      },
      "outputs": [],
      "source": [
        "# extracting manager information\n",
        "for index, row in barca.iterrows():\n",
        "    if(row['home_team_name']=='Barcelona'):\n",
        "        row['home_team_managers_name'] = manager[index]\n",
        "        row['away_team_managers_name'] = oppManager[index]\n",
        "    else:\n",
        "        row['home_team_managers_name'] = oppManager[index]\n",
        "        row['away_team_managers_name'] = manager[index]\n"
      ]
    },
    {
      "cell_type": "code",
      "execution_count": null,
      "metadata": {
        "id": "0-pvaXrEKZub"
      },
      "outputs": [],
      "source": [
        "# imputing missing values of manager\n",
        "for index,row in matches.iterrows():\n",
        "    if(row['home_team_name']=='Barcelona'):\n",
        "        if(row['home_team_managers_name']==''):\n",
        "            if(manager[index-1] != '' and manager[index+1]!='' and manager[index-1]==manager[index+1]):\n",
        "                manager[index] = manager[index-1]\n",
        "    else:\n",
        "        if(row['away_team_managers_name']==''):\n",
        "            if(manager[index-1] != '' and manager[index+1]!='' and manager[index-1]==manager[index+1]):\n",
        "                manager[index] = manager[index-1]\n"
      ]
    },
    {
      "cell_type": "code",
      "execution_count": null,
      "metadata": {
        "id": "Ub2_a4-4KZub"
      },
      "outputs": [],
      "source": [
        "for index, row in barca.iterrows():\n",
        "    if(row['home_team_name']=='Barcelona'):\n",
        "        row['home_team_managers_name'] = manager\n",
        "        row['away_team_managers_name'] = oppManager\n",
        "    else:\n",
        "        row['home_team_managers_name'] = oppManager\n",
        "        row['away_team_managers_name'] = manager"
      ]
    },
    {
      "cell_type": "code",
      "execution_count": null,
      "metadata": {
        "id": "oBXTqLfBKZub",
        "outputId": "d3836963-f6fd-4ccc-c324-1d986da3ec58"
      },
      "outputs": [],
      "source": [
        "barca[barca['away_team_managers_name']=='']"
      ]
    },
    {
      "cell_type": "code",
      "execution_count": null,
      "metadata": {
        "id": "HpuTJUeOKZub",
        "outputId": "8a84b491-d813-4181-d5bb-ee4ce3719295"
      },
      "outputs": [],
      "source": [
        "barca.head(1)"
      ]
    },
    {
      "cell_type": "code",
      "execution_count": null,
      "metadata": {
        "id": "JmHm9XxnKZub"
      },
      "outputs": [],
      "source": [
        "# subsetting the dataframe with the needed columns\n",
        "barca=barca[['season','match_id','match_week','match_date','home_score','away_score','home_team_name','home_team_managers_name','away_team_name','away_team_managers_name','stadium_name','referee_name']]"
      ]
    },
    {
      "cell_type": "code",
      "execution_count": null,
      "metadata": {
        "id": "FSNWt25GKZub"
      },
      "outputs": [],
      "source": [
        "# converting Barcelonas's match ID to list\n",
        "match_id = barca['match_id'].to_list()"
      ]
    },
    {
      "cell_type": "code",
      "execution_count": null,
      "metadata": {
        "id": "7YdlZiaOKZuc"
      },
      "outputs": [],
      "source": [
        "# extrating the starting 11 players of all the Barcelona Match\n",
        "temp = sbo.lineup(match_id=68314)[sbo.lineup(match_id=68314)['team_name']=='Barcelona']"
      ]
    },
    {
      "cell_type": "code",
      "execution_count": null,
      "metadata": {
        "id": "92Sv4Ew7KZuc"
      },
      "outputs": [],
      "source": [
        "# extracting all the matched played by Messi\n",
        "a =temp[temp['player_nickname']=='Lionel Messi']['match_id']"
      ]
    },
    {
      "cell_type": "code",
      "execution_count": null,
      "metadata": {
        "id": "QcwsvK8KKZuc"
      },
      "outputs": [],
      "source": [
        "#creating list of match ids in which messi played\n",
        "messiMatchID =[]\n",
        "for i in match_id:\n",
        "    lineup = sbo.lineup(match_id=i)\n",
        "    mid = lineup[lineup['player_nickname']=='Lionel Messi']['match_id'].to_list()\n",
        "    if(len(mid)!=0):\n",
        "        messiMatchID.append(mid[0])"
      ]
    },
    {
      "cell_type": "code",
      "execution_count": null,
      "metadata": {
        "id": "FuXcIOREKZuc"
      },
      "outputs": [],
      "source": [
        "# extrating all the Info related to Messi's matches\n",
        "messiMatches = barca[barca['match_id'].isin(messiMatchID)]"
      ]
    },
    {
      "cell_type": "code",
      "execution_count": null,
      "metadata": {
        "id": "XXOBrMJcKZuc",
        "outputId": "57650953-fecf-421a-f42d-b00d2ca12b6d"
      },
      "outputs": [],
      "source": [
        "messiMatches"
      ]
    },
    {
      "cell_type": "code",
      "execution_count": null,
      "metadata": {
        "id": "0dmcD76KKZuc",
        "outputId": "04fa9d2c-7a34-487b-8b5d-9f93e29af9aa"
      },
      "outputs": [],
      "source": [
        "# extracting the opponents info for the matches played by Messi\n",
        "opponent =[]\n",
        "for index,row in messiMatches.iterrows():\n",
        "    if(row['home_team_name']=='Barcelona'):\n",
        "        opponent.append(row['away_team_name'])\n",
        "    elif(row['away_team_name']=='Barcelona'):\n",
        "        opponent.append(row['home_team_name'])\n",
        "\n",
        "messiMatches['opponent'] = opponent"
      ]
    },
    {
      "cell_type": "code",
      "execution_count": null,
      "metadata": {
        "id": "am7LgMaQKZuc"
      },
      "outputs": [],
      "source": [
        "messiMatches.to_csv('messiMatches.csv',index=False)"
      ]
    },
    {
      "cell_type": "code",
      "execution_count": null,
      "metadata": {
        "id": "UWMAPUBKKZuc"
      },
      "outputs": [],
      "source": [
        "# grouping the matches based on the season\n",
        "messiMatchesG = messiMatches.groupby('season').agg(lambda x: list(x)).reset_index()"
      ]
    },
    {
      "cell_type": "code",
      "execution_count": null,
      "metadata": {
        "id": "i8Q06nykKZuc"
      },
      "outputs": [],
      "source": [
        "lineup = sb.lineups(match_id=68314)['Barcelona']"
      ]
    },
    {
      "cell_type": "code",
      "execution_count": null,
      "metadata": {
        "id": "dIVCj_nwKZuc"
      },
      "outputs": [],
      "source": [
        "# extracting Messi's player ID from the lineup\n",
        "messiID = lineup[lineup['player_nickname']=='Lionel Messi']['player_id'][1]"
      ]
    },
    {
      "cell_type": "code",
      "execution_count": null,
      "metadata": {
        "id": "Tob8XwjsKZui"
      },
      "outputs": [],
      "source": [
        "messiID = float(messiID)"
      ]
    },
    {
      "cell_type": "code",
      "execution_count": null,
      "metadata": {
        "id": "oddXkESnKZui",
        "outputId": "925a590e-86ba-41ea-9e1c-9cc03445bac4"
      },
      "outputs": [],
      "source": [
        "messiID"
      ]
    },
    {
      "cell_type": "code",
      "execution_count": null,
      "metadata": {
        "id": "D0hAU72KKZui"
      },
      "outputs": [],
      "source": [
        "# creatign a temp variable to view events for the particular season\n",
        "tempE = sb.competition_events(\n",
        "            country=\"Spain\",\n",
        "            division= \"La Liga\",\n",
        "            season=\"1973/1974\"\n",
        "        )"
      ]
    },
    {
      "cell_type": "code",
      "execution_count": null,
      "metadata": {
        "id": "u-babTH3KZui",
        "outputId": "747a34e7-b76d-4118-cdff-fd808ee7233e"
      },
      "outputs": [],
      "source": [
        "# iterating through all the seasons and creating a data frame of all the events related to Messi\n",
        "col = tempE.columns.tolist()\n",
        "eventsMessi = pd.DataFrame(columns=col)\n",
        "i=0\n",
        "for season in laLiga['season_name']:\n",
        "    if(season!='1973/1974'):\n",
        "        event = sb.competition_events(\n",
        "            country=\"Spain\",\n",
        "            division= \"La Liga\",\n",
        "            season=season\n",
        "        )\n",
        "        event['season'] = season\n",
        "        eventsMessi = pd.concat([eventsMessi, event[event['player_id']==messiID]])\n",
        "    i=i+1"
      ]
    },
    {
      "cell_type": "code",
      "execution_count": null,
      "metadata": {
        "id": "47k01W2TKZui"
      },
      "outputs": [],
      "source": [
        "eventsMessi = eventsMessi.reset_index()"
      ]
    },
    {
      "cell_type": "code",
      "execution_count": null,
      "metadata": {
        "id": "1WUhVS7EKZui"
      },
      "outputs": [],
      "source": [
        "#separating x and y locations\n",
        "eventsMessi[['x_start','y_start']] = eventsMessi['location'].apply(pd.Series)\n",
        "eventsMessi[['x_end','y_end']] = eventsMessi['pass_end_location'].apply(pd.Series)\n",
        "eventsMessi[['x_carry_end','y_carry_end']] = eventsMessi['carry_end_location'].apply(pd.Series)"
      ]
    },
    {
      "cell_type": "code",
      "execution_count": null,
      "metadata": {
        "id": "lxFkPvrVKZui"
      },
      "outputs": [],
      "source": [
        "eventsMessi = eventsMessi.drop(['level_0'],axis=1)"
      ]
    },
    {
      "cell_type": "code",
      "execution_count": null,
      "metadata": {
        "id": "YYPq867QKZui"
      },
      "outputs": [],
      "source": [
        "eventsMessi.to_csv('eventsMessi.csv',index=False)"
      ]
    }
  ],
  "metadata": {
    "colab": {
      "provenance": []
    },
    "kernelspec": {
      "display_name": "Python 3",
      "language": "python",
      "name": "python3"
    },
    "language_info": {
      "codemirror_mode": {
        "name": "ipython",
        "version": 3
      },
      "file_extension": ".py",
      "mimetype": "text/x-python",
      "name": "python",
      "nbconvert_exporter": "python",
      "pygments_lexer": "ipython3",
      "version": "3.11.5"
    }
  },
  "nbformat": 4,
  "nbformat_minor": 0
}
