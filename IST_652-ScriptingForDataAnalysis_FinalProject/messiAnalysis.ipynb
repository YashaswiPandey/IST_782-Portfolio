{
  "cells": [
    {
      "cell_type": "code",
      "execution_count": null,
      "metadata": {
        "id": "ExMWwsq9LFKQ"
      },
      "outputs": [],
      "source": [
        "try:\n",
        "    import folium\n",
        "    import dash\n",
        "    from dash import dcc\n",
        "    from dash import html\n",
        "    from dash.dependencies import Input, Output\n",
        "    import plotly.express as px\n",
        "    import pandas as pd\n",
        "    import matplotlib.pyplot as plt\n",
        "    from mplsoccer import Pitch, VerticalPitch\n",
        "    from matplotlib.patches import Circle\n",
        "    from matplotlib.patches import Rectangle\n",
        "    import math\n",
        "    import numpy as np\n",
        "except:\n",
        "    %pip install folium\n",
        "    %pip install dash\n",
        "    %pip install plotly\n",
        "    %pip install mplsoccer\n",
        "    import pandas as pd\n",
        "    import matplotlib.pyplot as plt\n",
        "    from mplsoccer import Pitch, VerticalPitch\n",
        "    from matplotlib.patches import Circle\n",
        "    import math\n",
        "    import numpy as np\n",
        "    import dash\n",
        "    from dash import dcc\n",
        "    from dash import html\n",
        "    from dash.dependencies import Input, Output\n",
        "    import plotly.express as px\n",
        "    from matplotlib.patches import Rectangle\n",
        "    import folium"
      ]
    },
    {
      "cell_type": "code",
      "execution_count": null,
      "metadata": {
        "id": "fjsY7GF0LFKR",
        "outputId": "f91a1c20-a8a5-4de7-e078-add88b6bf2ce"
      },
      "outputs": [],
      "source": [
        "#reading csv\n",
        "eventsMessi = pd.read_csv('eventsMessi.csv')"
      ]
    },
    {
      "cell_type": "code",
      "execution_count": null,
      "metadata": {
        "id": "41Ap_eFtLFKS",
        "outputId": "b667d0b3-fd33-48d7-f657-b75c1c73c72f"
      },
      "outputs": [],
      "source": [
        "eventsMessi"
      ]
    },
    {
      "cell_type": "code",
      "execution_count": null,
      "metadata": {
        "id": "zfoL7LaLLFKS"
      },
      "outputs": [],
      "source": [
        "seasons = sorted(eventsMessi['season'].unique().tolist())"
      ]
    },
    {
      "cell_type": "code",
      "execution_count": null,
      "metadata": {
        "id": "nBruE4_-LFKS",
        "outputId": "f2163ec3-dd04-45e7-b9c7-61d4859d06ad"
      },
      "outputs": [],
      "source": [
        "#Dividing Messi's career into 4 eras\n",
        "col = eventsMessi.columns.tolist()\n",
        "\n",
        "initialYears = pd.DataFrame(columns=col)\n",
        "pepYears = pd.DataFrame(columns=col)\n",
        "msnYears = pd.DataFrame(columns=col)\n",
        "swanSong = pd.DataFrame(columns=col)\n",
        "\n",
        "dfList = []\n",
        "\n",
        "for season in seasons:\n",
        "    if(season=='2004/2005' or season=='2005/2006'\n",
        "       or season=='2006/2007' or season=='2007/2008'):\n",
        "        initialYears = pd.concat([initialYears,eventsMessi[eventsMessi['season']==season]])\n",
        "\n",
        "    elif(season=='2008/2009' or season=='2009/2010'\n",
        "       or season=='2010/2011' or season=='2011/2012' or season=='2012/2013'):\n",
        "        pepYears = pd.concat([pepYears,eventsMessi[eventsMessi['season']==season]])\n",
        "\n",
        "    elif(season=='2013/2014'or season=='2014/2015'\n",
        "         or season=='2015/2016'or season=='2016/2017'):\n",
        "        msnYears = pd.concat([msnYears,eventsMessi[eventsMessi['season']==season]])\n",
        "\n",
        "    else:\n",
        "        swanSong = pd.concat([swanSong,eventsMessi[eventsMessi['season']==season]])\n"
      ]
    },
    {
      "cell_type": "code",
      "execution_count": null,
      "metadata": {
        "id": "W1g921iNLFKT"
      },
      "outputs": [],
      "source": [
        "# creating a function to plot heat map for the various attributes such as Passing, Ball carry\n",
        "def heatmap(df,type,title):\n",
        "    if(type==\"pass\"):\n",
        "        pitch = Pitch(pitch_type='statsbomb',pitch_color='#004d98', line_color='#edbb00',half=True)\n",
        "        fig, ax = pitch.grid(title_height=0.03, title_space=0,\n",
        "                      axis=False, grid_height=0.60, grid_width=1, endnote_height=0)\n",
        "    elif(type==\"all\"):\n",
        "        pitch = Pitch(pitch_type='statsbomb',pitch_color='#004d98', line_color='#edbb00')\n",
        "        fig, ax = pitch.grid(title_height=0.03, title_space=0,\n",
        "                      axis=False, grid_height=0.60, grid_width=1, endnote_height=0)\n",
        "        fig.set_figwidth(9)\n",
        "    else:\n",
        "        pitch = VerticalPitch(pitch_type='statsbomb',pitch_color='#004d98', line_color='#edbb00')\n",
        "        fig, ax = pitch.grid(title_height=0.05, title_space=0,\n",
        "                      axis=False, grid_height=0.60, grid_width=1, endnote_height=0)\n",
        "\n",
        "    fig.set_facecolor('#a50044')\n",
        "\n",
        "    x = df[\"x_start\"]\n",
        "    y = df[\"y_start\"]\n",
        "\n",
        "    if(type==\"carryEnd\"):\n",
        "        x = df[\"x_carry_end\"]\n",
        "        y = df[\"y_carry_end\"]\n",
        "\n",
        "    bin_x = np.linspace(pitch.dim.left, pitch.dim.right, num=7)\n",
        "    bin_y = np.sort(np.array([pitch.dim.bottom, pitch.dim.six_yard_bottom,\n",
        "                          pitch.dim.six_yard_top, pitch.dim.top]))\n",
        "\n",
        "\n",
        "    bin_statistic = pitch.bin_statistic(x, y, statistic='count', bins=(bin_x, bin_y), normalize=True)\n",
        "    pitch.heatmap(bin_statistic, ax=ax['pitch'], cmap='hot', edgecolor='#f9f9f9',alpha=0.7)\n",
        "    labels = pitch.label_heatmap(bin_statistic, color='#f4edf0', fontsize=18,\n",
        "                                ax=ax['pitch'], ha='center', va='center',\n",
        "                                str_format='{:.0%}')\n",
        "\n",
        "    title_text = ax['title'].text(0.5, 0.5, title,\n",
        "                               color='navy', va='center', ha='center', fontsize=15)"
      ]
    },
    {
      "cell_type": "code",
      "execution_count": null,
      "metadata": {
        "id": "Dsj11GgaLFKT"
      },
      "outputs": [],
      "source": [
        "# creating a function to plot the pitch contating points related to dribbles start and end\n",
        "def drib(dfSuc,dfNut,dfUnSuc,title):\n",
        "    pitch = Pitch(pitch_type='statsbomb',pitch_color='#004d98', line_color='#edbb00')\n",
        "\n",
        "    fig, axs = pitch.grid(endnote_space=0,\n",
        "                      title_height=0.08, title_space=0,\n",
        "                      axis=False,\n",
        "                      grid_height=0.60, endnote_height=0)\n",
        "\n",
        "    fig.set_facecolor('#a50044')\n",
        "\n",
        "    sDribbles = pitch.scatter(dfSuc['x_start'], dfSuc['y_start'],\n",
        "                   marker='*',\n",
        "                   c='#00dd98',\n",
        "                   label='successful Dribbles',\n",
        "                   ax=axs['pitch'])\n",
        "\n",
        "    nDribbles = pitch.scatter(dfNut['x_start'], dfNut['y_start'],\n",
        "                    marker='h',\n",
        "                    c='#eb0Aee',\n",
        "                    label='Nutmeg',\n",
        "                    ax=axs['pitch'])\n",
        "\n",
        "    uDribbles = pitch.scatter(dfUnSuc['x_start'], dfUnSuc['y_start'],\n",
        "                    marker='x',\n",
        "                    c='#AA5500',\n",
        "                    label='Unsuccessful Dribbles',\n",
        "                    ax=axs['pitch'])\n",
        "\n",
        "    title_text = axs['title'].text(0.5, 0.5, title,\n",
        "                               color='navy', va='center', ha='center',fontsize=20)\n",
        "\n",
        "    axs['pitch'].legend()"
      ]
    },
    {
      "cell_type": "code",
      "execution_count": null,
      "metadata": {
        "id": "sx0s5vStLFKT"
      },
      "outputs": [],
      "source": [
        "# creating a hexagonal heatmap to plot the carry of the ball\n",
        "def hexbin(df,title1, title2):\n",
        "    pitch = Pitch(pitch_type='statsbomb',pitch_color='#004d98', line_color='#edbb00')\n",
        "    fig, axs = pitch.grid(nrows=1, ncols=2, title_height=0.03,\n",
        "                      title_space=0,\n",
        "                      axis=False,\n",
        "                      grid_height=0.60, endnote_height=0)\n",
        "\n",
        "    fig.set_facecolor('#a50044')\n",
        "    psHexbin = pitch.hexbin(df['x_start'], df['y_start'], ax=axs['pitch'][0], edgecolors='#f4f4f4',\n",
        "                        alpha=0.7, gridsize=(10,4), cmap='hot')\n",
        "    peHexbin = pitch.hexbin(df['x_end'], df['y_end'], ax=axs['pitch'][1], edgecolors='#f4f4f4',\n",
        "                        alpha=0.7, gridsize=(10,4), cmap='hot')\n",
        "\n",
        "    cbar1 = fig.colorbar(psHexbin, ax=axs['pitch'][0], shrink=0.6,label='count')\n",
        "    cbar2 = fig.colorbar(peHexbin, ax=axs['pitch'][1], shrink=0.6,label='count')\n",
        "\n",
        "    title_text = axs['title'].text(0.2, 0, title1,\n",
        "                               color='navy', va='center', ha='center', fontsize=20)\n",
        "\n",
        "    title_text = axs['title'].text(0.7, 0, title2,\n",
        "                               color='navy', va='center', ha='center', fontsize=20)\n"
      ]
    },
    {
      "cell_type": "code",
      "execution_count": null,
      "metadata": {
        "id": "-IQaENzTLFKT"
      },
      "outputs": [],
      "source": [
        "# creating a scatter plot function to mark the start and end of his passses\n",
        "def scatter(df,type,title):\n",
        "    pitch = Pitch(pitch_type='statsbomb',pitch_color='#004d98', line_color='#edbb00',half=True)\n",
        "\n",
        "    fig, axs = pitch.grid(title_height=0.03, title_space=0,\n",
        "                      axis=False, grid_height=0.60, grid_width=1, endnote_height=0)\n",
        "\n",
        "    fig.set_facecolor('#a50044')\n",
        "\n",
        "    if(type==\"assists\"):\n",
        "        sAssists = pitch.scatter(df['x_start'], df['y_start'],\n",
        "                   marker='*',\n",
        "                   c='#00dd98',\n",
        "                   ax=axs['pitch'])\n",
        "\n",
        "    elif(type==\"goals\"):\n",
        "        iyGoalsPlot = pitch.scatter(df['x_start'], df['y_start'],\n",
        "                   marker='*',\n",
        "                   c=df['shot_statsbomb_xg'],\n",
        "                   s=(df['shot_statsbomb_xg']*900) + 100,\n",
        "                   ax=axs['pitch'])\n",
        "\n",
        "        cbar = fig.colorbar(iyGoalsPlot, ax=axs['pitch'], shrink=0.8,label='xG')\n",
        "\n",
        "    title_text = axs['title'].text(0.5, 0.5, title,\n",
        "                               color='navy', va='center', ha='center', fontsize=20)"
      ]
    },
    {
      "cell_type": "code",
      "execution_count": null,
      "metadata": {
        "id": "4NHk6W0aLFKT"
      },
      "outputs": [],
      "source": [
        "# creating a function to calculate some statistics in various stages of his career such as expected goals, average goals goals, goals scored, etc\n",
        "def evolution(avgIYX,avgIYY,avgPYX,avgPYY,avgMYX,avgMYY,avgSYX,avgSYY,title):\n",
        "    pitch = Pitch(pitch_type='statsbomb',pitch_color='#004d98', line_color='#edbb00',half= True,\n",
        "              pad_left=-15, pad_top=-20, pad_bottom=-1,pad_right=-1,positional=True)\n",
        "\n",
        "    fig, axs = pitch.grid(title_height=0.03, title_space=0,\n",
        "                      axis=False, grid_height=0.60, grid_width=1, endnote_height=0)\n",
        "\n",
        "    fig.set_facecolor('#a50044')\n",
        "\n",
        "    avgIY = pitch.scatter(avgIYX, avgIYY,\n",
        "                marker='.',\n",
        "                c='#eb0Aee',\n",
        "                s=100,\n",
        "                label='Initial Years',\n",
        "                ax=axs['pitch'])\n",
        "\n",
        "    avgPY = pitch.scatter(avgPYX, avgPYY,\n",
        "                marker='.',\n",
        "                c='red',\n",
        "                s=100,\n",
        "                label='Pep Years',\n",
        "                ax=axs['pitch'])\n",
        "\n",
        "    avgMY = pitch.scatter(avgMYX, avgMYY,\n",
        "                marker='.',\n",
        "                c='blue',\n",
        "                s=100,\n",
        "                label='MSN Years',\n",
        "                ax=axs['pitch'])\n",
        "\n",
        "    avgSY = pitch.scatter(avgSYX, avgSYY,\n",
        "                marker='.',\n",
        "                c='purple',\n",
        "                s=100,\n",
        "                label='Swan Song',\n",
        "                ax=axs['pitch'])\n",
        "\n",
        "    ax_title = axs['title'].text(0.5, 1, title, color='navy',\n",
        "                             va='center', ha='center',fontsize=15)\n",
        "    axs['pitch'].legend()\n"
      ]
    },
    {
      "cell_type": "code",
      "execution_count": null,
      "metadata": {
        "id": "oK5vvh31LFKT"
      },
      "outputs": [],
      "source": [
        "# creating a functin to plot the heat map showing the most common areas where Messi is passing the ball\n",
        "def kdePlot(df1,df2,df3,df4,type,title):\n",
        "    if(type==\"s\"):\n",
        "        x1 = df1['x_start']\n",
        "        y1 = df1['y_start']\n",
        "        x2 = df2['x_start']\n",
        "        y2 = df2['y_start']\n",
        "        x3 = df3['x_start']\n",
        "        y3 = df3['y_start']\n",
        "        x4 = df4['x_start']\n",
        "        y4 = df4['y_start']\n",
        "    else:\n",
        "        x1 = df1['x_end']\n",
        "        y1 = df1['y_end']\n",
        "        x2 = df2['x_end']\n",
        "        y2 = df2['y_end']\n",
        "        x3 = df3['x_end']\n",
        "        y3 = df3['y_end']\n",
        "        x4 = df4['x_end']\n",
        "        y4 = df4['y_end']\n",
        "\n",
        "    pitch = Pitch(pitch_type='statsbomb',pitch_color='#004d98', line_color='#edbb00')\n",
        "    fig, ax = pitch.grid(nrows=2,ncols=2,title_height=0.06, title_space=0,\n",
        "                      axis=False,\n",
        "                      grid_height=0.60)\n",
        "    fig.set_facecolor('#a50044')\n",
        "\n",
        "    kdeplot1 = pitch.kdeplot(x1, y1,fill=True,n_levels=200,cmap='gnuplot', ax=ax['pitch'][0][0], thresh=0.9)\n",
        "    kdeplot2 = pitch.kdeplot(x2, y2,fill=True,n_levels=200,cmap='gnuplot', ax=ax['pitch'][0][1], thresh=0.9)\n",
        "    kdeplot3 = pitch.kdeplot(x3, y3,fill=True,n_levels=200,cmap='gnuplot', ax=ax['pitch'][1][0], thresh=0.9)\n",
        "    kdeplot4 = pitch.kdeplot(x4, y4,fill=True,n_levels=200,cmap='gnuplot', ax=ax['pitch'][1][1], thresh=0.9)\n",
        "\n",
        "    ax_title = ax['title'].text(0.5, 0.5, title, color='navy',\n",
        "                             va='center', ha='center', fontsize=20)\n"
      ]
    },
    {
      "cell_type": "code",
      "execution_count": null,
      "metadata": {
        "id": "Hal4ZQHNLFKU"
      },
      "outputs": [],
      "source": [
        "# plotting the center circle and D Line cordinates\n",
        "circH = Circle((120.0, 40.0), radius = 15)\n",
        "circV = Circle((40.0, 120.0), radius = 15)\n",
        "\n",
        "recH = Rectangle((120, 18), -18,45)\n",
        "recV = Rectangle((18, 120), 45,-18)"
      ]
    },
    {
      "cell_type": "code",
      "execution_count": null,
      "metadata": {
        "id": "bsrKQiNvLFKU"
      },
      "outputs": [],
      "source": [
        "# creating a function to extract the dangerous passes leading to a goal made by Messi\n",
        "def dangerPass(df,type,title):\n",
        "\n",
        "    DangerPass = [row['id'] for index,row in df.iterrows()\n",
        "                  if ((circH.contains_point([row['x_end'],row['y_end']])==True)\n",
        "                      or (circV.contains_point([row['x_end'],row['y_end']])==True))]\n",
        "\n",
        "    DangerPasses = df[df['id'].isin(DangerPass)]\n",
        "\n",
        "    if(type=='c'):\n",
        "        return DangerPasses\n",
        "    else:\n",
        "        heatmap(DangerPasses,\"pass\",title)"
      ]
    },
    {
      "cell_type": "code",
      "execution_count": null,
      "metadata": {
        "id": "EY6kILvpLFKU"
      },
      "outputs": [],
      "source": [
        "# extracting set piece information\n",
        "setpiece = [\"Corner\", \"Throw-in\",\"Free Kick\", \"Penalty\"]"
      ]
    },
    {
      "cell_type": "code",
      "execution_count": null,
      "metadata": {
        "id": "iiZa-L-RLFKU"
      },
      "outputs": [],
      "source": [
        "# creating a function to map the location and movement of Messi across the pitch\n",
        "def avgLoc(df,axis):\n",
        "    if(axis==\"x\"):\n",
        "        pos = df[df['x_start'].isna()==False]['x_start']\n",
        "    elif(axis==\"y\"):\n",
        "        pos = df[df['y_start'].isna()==False]['y_start']\n",
        "    elif(axis==\"xend\"):\n",
        "        pos = df[df['x_end'].isna()==False]['x_end']\n",
        "    elif(axis==\"yend\"):\n",
        "        pos = df[df['y_end'].isna()==False]['y_end']\n",
        "    elif(axis==\"xcend\"):\n",
        "        pos = df[df['x_carry_end'].isna()==False]['x_carry_end']\n",
        "    elif(axis==\"ycend\"):\n",
        "        pos = df[df['y_carry_end'].isna()==False]['y_carry_end']\n",
        "\n",
        "    avgLoc = sum(pos)/len(pos)\n",
        "\n",
        "    return avgLoc"
      ]
    },
    {
      "cell_type": "code",
      "execution_count": null,
      "metadata": {
        "id": "tffxYVmZLFKU"
      },
      "outputs": [],
      "source": [
        "# a function to plot the number of goals scored from inside the penalty area and outside of that\n",
        "def penaltyBox(df,type):\n",
        "    insideID = [row['id'] for index,row in df.iterrows()\n",
        "                  if ((recH.contains_point([row['x_start'],row['y_start']])==True)\n",
        "                      or (recV.contains_point([row['x_start'],row['y_start']])==True))]\n",
        "\n",
        "    if(type==\"in\"):\n",
        "        pbDf = df[df['id'].isin(insideID)]\n",
        "    else:\n",
        "        pbDf = df[~df['id'].isin(insideID)]\n",
        "\n",
        "    return pbDf\n"
      ]
    },
    {
      "cell_type": "code",
      "execution_count": null,
      "metadata": {
        "id": "f9SycrSJLFKU"
      },
      "outputs": [],
      "source": [
        "# Calculating some stats related to goal scoring\n",
        "def xG(df):\n",
        "    xgTot = 0.0\n",
        "    xgBox = 0.0\n",
        "    xgOB = 0.0\n",
        "\n",
        "    xgTot = sum(df['shot_statsbomb_xg'])\n",
        "\n",
        "    for index,row in df.iterrows():\n",
        "        if ((recH.contains_point([row['x_start'],row['y_start']])==True)\n",
        "            or (recV.contains_point([row['x_start'],row['y_start']])==True)):\n",
        "            xgBox = xgBox + row['shot_statsbomb_xg']\n",
        "        else:\n",
        "            xgOB = xgOB + row['shot_statsbomb_xg']\n",
        "\n",
        "    return round(xgTot,2),round(xgBox,2),round(xgOB,2)"
      ]
    },
    {
      "cell_type": "code",
      "execution_count": null,
      "metadata": {
        "id": "WBE170FLLFKU"
      },
      "outputs": [],
      "source": [
        "# extracting all the matches in which Messi has scored goals\n",
        "goalMID = eventsMessi[eventsMessi['shot_outcome']==\"Goal\"]['match_id'].tolist()\n",
        "assistMID = eventsMessi[eventsMessi['pass_goal_assist']==True]['match_id'].tolist()"
      ]
    },
    {
      "cell_type": "code",
      "execution_count": null,
      "metadata": {
        "id": "rngsOPh2LFKU"
      },
      "outputs": [],
      "source": [
        "messiMatches = pd.read_csv(\"messiMatches.csv\")"
      ]
    },
    {
      "cell_type": "code",
      "execution_count": null,
      "metadata": {
        "id": "6_ZTIOxJLFKU"
      },
      "outputs": [],
      "source": [
        "# extracting all the goals scored by Messi\n",
        "goalDate = []\n",
        "for mid in goalMID:\n",
        "    for index,row in messiMatches.iterrows():\n",
        "        if(row['match_id'] == mid):\n",
        "            goalDate.append(row['match_date'])"
      ]
    },
    {
      "cell_type": "code",
      "execution_count": null,
      "metadata": {
        "id": "BjrEVCtRLFKU"
      },
      "outputs": [],
      "source": [
        "# saving all the dates on which Messi has scored in a Data Frame\n",
        "goalDate = sorted(pd.to_datetime(goalDate))\n",
        "goalDic = {\"goalNumber\":range(1,len(goalDate)+1), \"Date\": goalDate}\n",
        "goalDates = pd.DataFrame(goalDic)"
      ]
    },
    {
      "cell_type": "code",
      "execution_count": null,
      "metadata": {
        "id": "J1P0Q2dtLFKU"
      },
      "outputs": [],
      "source": [
        "# extracting all the assists made by Messi\n",
        "assistDate = []\n",
        "for mid in assistMID:\n",
        "    for index,row in messiMatches.iterrows():\n",
        "        if(row['match_id'] == mid):\n",
        "            assistDate.append(row['match_date'])"
      ]
    },
    {
      "cell_type": "code",
      "execution_count": null,
      "metadata": {
        "id": "BxL37Py3LFKU"
      },
      "outputs": [],
      "source": [
        "# saving all the dates on which Messi has made an assist in a data frame\n",
        "assistDate = sorted(pd.to_datetime(assistDate))\n",
        "assistDic = {\"assistNumber\":range(1,len(assistDate)+1), \"Date\": assistDate}\n",
        "assistDates = pd.DataFrame(assistDic)"
      ]
    },
    {
      "cell_type": "code",
      "execution_count": null,
      "metadata": {
        "id": "QcrGi7ugLFKV",
        "outputId": "013ac114-54b6-473f-d2f8-34ba4276a656"
      },
      "outputs": [],
      "source": [
        "# creating a line chart with the goals scored vs date scored and making a similar graph for assist as well\n",
        "goals_df = goalDates\n",
        "assists_df = assistDates\n",
        "\n",
        "# Create Dash app\n",
        "app = dash.Dash(__name__)\n",
        "\n",
        "# Define app layout\n",
        "app.layout = html.Div(style={'backgroundColor': '#a50044'}, children=[\n",
        "    html.H1(style={'color': 'navy', 'textAlign': 'center'}, children='Messi\\'s Goals and Assists'),\n",
        "\n",
        "    # Dropdown for selecting Goals or Assists\n",
        "    dcc.Dropdown(\n",
        "        id='goal-assist-dropdown',\n",
        "        options=[\n",
        "            {'label': 'Goals', 'value': 'Goals'},\n",
        "            {'label': 'Assists', 'value': 'Assists'}\n",
        "        ],\n",
        "        value='Goals',\n",
        "        style={'width': '50%', 'margin': '10px auto'}\n",
        "    ),\n",
        "\n",
        "    # Graph for Goals and Assists\n",
        "    dcc.Graph(\n",
        "        id='goals-assists-graph'\n",
        "    )\n",
        "])\n",
        "\n",
        "# Callback to update the graph based on dropdown selection\n",
        "@app.callback(\n",
        "    Output('goals-assists-graph', 'figure'),\n",
        "    [Input('goal-assist-dropdown', 'value')]\n",
        ")\n",
        "def update_graph(selected_value):\n",
        "    if selected_value == 'Goals':\n",
        "        df = goals_df\n",
        "        y='goalNumber'\n",
        "    else:\n",
        "        df = assists_df\n",
        "        y='assistNumber'\n",
        "\n",
        "    fig = px.line(df, x='Date',y=y, title=f'Messi\\'s {selected_value} Over Time')\n",
        "    fig.update_traces(line_color='#edbb00')\n",
        "\n",
        "    fig.update_layout(plot_bgcolor = \"#004d98\",)\n",
        "\n",
        "    return fig\n",
        "\n",
        "# Run the app\n",
        "if __name__ == '__main__':\n",
        "    app.run_server(debug=True)\n"
      ]
    },
    {
      "cell_type": "markdown",
      "metadata": {
        "id": "A5RJNYCoLFKV"
      },
      "source": [
        "# Era Analysis"
      ]
    },
    {
      "cell_type": "markdown",
      "metadata": {
        "id": "q_DkOY15LFKV"
      },
      "source": [
        "## Breakthrough"
      ]
    },
    {
      "cell_type": "code",
      "execution_count": null,
      "metadata": {
        "id": "eo9ATsmDLFKV",
        "outputId": "ae9d69a8-32f2-4b30-cd55-a8e100a7cc41"
      },
      "outputs": [],
      "source": [
        "# calling the heatmap function to analyze the action zones of Messi\n",
        "heatmap(initialYears,\"all\",\"Messi Action Zones\")"
      ]
    },
    {
      "cell_type": "markdown",
      "metadata": {
        "id": "tDQfAe4SLFKV"
      },
      "source": [
        "### Movement"
      ]
    },
    {
      "cell_type": "code",
      "execution_count": null,
      "metadata": {
        "id": "7-2ZdpRCLFKV"
      },
      "outputs": [],
      "source": [
        "# extracting all the start points of carry's made during his initial years\n",
        "iyCarry = initialYears[initialYears['type']=='Carry']"
      ]
    },
    {
      "cell_type": "code",
      "execution_count": null,
      "metadata": {
        "id": "ryw_p6tcLFKW",
        "outputId": "84e6f1ea-4530-41b6-f583-6332c1139a97"
      },
      "outputs": [],
      "source": [
        "heatmap(iyCarry,\"start\", \"Where Messi Starts Carrying\")"
      ]
    },
    {
      "cell_type": "code",
      "execution_count": null,
      "metadata": {
        "id": "_h60_yY9LFKW",
        "outputId": "cbd14605-165c-4470-f268-32b9baedd5fc"
      },
      "outputs": [],
      "source": [
        "# extracting all the end points of carry's made during his initial years\n",
        "heatmap(iyCarry,\"carryEnd\", \"Where Messi Ends Carrying\")"
      ]
    },
    {
      "cell_type": "code",
      "execution_count": null,
      "metadata": {
        "id": "YZRTkZlfLFKW"
      },
      "outputs": [],
      "source": [
        "# scatter plot of the places where Messi has made a successful, unsuccessful, nutmegs across the pitch\n",
        "iyDribbles = initialYears[initialYears['type']==\"Dribble\"]\n",
        "iyASDribbles = iyDribbles[iyDribbles['dribble_outcome']=='Complete']\n",
        "iyNDribbles = iyASDribbles[iyASDribbles['dribble_nutmeg']==True]\n",
        "iySDribbles = iyASDribbles[iyASDribbles['dribble_nutmeg'].isna()]\n",
        "iyUDribbles = iyDribbles[iyDribbles['dribble_outcome']=='Incomplete']"
      ]
    },
    {
      "cell_type": "code",
      "execution_count": null,
      "metadata": {
        "id": "E9DvlG3BLFKW",
        "outputId": "86daaabe-f275-446e-b240-4ea514c01d73"
      },
      "outputs": [],
      "source": [
        "drib(iySDribbles,iyNDribbles,iyUDribbles,\"Where Messi attempts Dribbles\")"
      ]
    },
    {
      "cell_type": "code",
      "execution_count": null,
      "metadata": {
        "id": "bGoAhhBrLFKW",
        "outputId": "0f9d5c55-98dd-4934-cd55-a5e358c2090f"
      },
      "outputs": [],
      "source": [
        "# heat mpa showing the places where Messi has made most of the dribbles\n",
        "heatmap(iyASDribbles,\"dribble\",\"Where Messi Successfuly Dribbles\\n past players\")"
      ]
    },
    {
      "cell_type": "markdown",
      "metadata": {
        "id": "-fGk6XL8LFKW"
      },
      "source": [
        "### Passing"
      ]
    },
    {
      "cell_type": "code",
      "execution_count": null,
      "metadata": {
        "id": "S9nn5iRPLFKW"
      },
      "outputs": [],
      "source": [
        "# extracting all the passing information\n",
        "passesIY = initialYears[initialYears['type']=='Pass']\n",
        "sPIY = passesIY[passesIY['pass_outcome'].isna()]"
      ]
    },
    {
      "cell_type": "code",
      "execution_count": null,
      "metadata": {
        "id": "xIaxV4toLFKW",
        "outputId": "7ad6c9b3-20c4-4e76-c672-efb9bc4eda70"
      },
      "outputs": [],
      "source": [
        "# plotting a heatmap of the areas from where Messi is passing the ball and the areas to which he is passing the ball to\n",
        "hexbin(sPIY,\"Where Messi passes from\",\"Where passes end up\")"
      ]
    },
    {
      "cell_type": "code",
      "execution_count": null,
      "metadata": {
        "id": "Z4x713LQLFKX",
        "outputId": "684d1cee-0c30-419b-b510-0f1ed3f8442e"
      },
      "outputs": [],
      "source": [
        "# top recipients of Messi's passes\n",
        "iyTopRecip = sPIY['pass_recipient'].value_counts().rename_axis('player_name').reset_index(name='counts').head(5)\n",
        "iyTopRecip"
      ]
    },
    {
      "cell_type": "markdown",
      "metadata": {
        "id": "n6ca0iH1LFKX"
      },
      "source": [
        "### Playmaking"
      ]
    },
    {
      "cell_type": "code",
      "execution_count": null,
      "metadata": {
        "id": "lcQ4Om63LFKi",
        "outputId": "ae1ce0f6-035b-46a4-fc3d-ad5737729bb2"
      },
      "outputs": [],
      "source": [
        "# plotting the dangerous passes made by Messi leading to goal scoring situations\n",
        "dangerPass(sPIY,\"p\",\"Dangerous Passes\")"
      ]
    },
    {
      "cell_type": "markdown",
      "metadata": {
        "id": "qe5zofdgLFKi"
      },
      "source": [
        "#### Assists"
      ]
    },
    {
      "cell_type": "code",
      "execution_count": null,
      "metadata": {
        "id": "fMOB67UVLFKi"
      },
      "outputs": [],
      "source": [
        "# extracting all the assist information made by Messi\n",
        "iyAssists = initialYears[initialYears['pass_goal_assist']==True]"
      ]
    },
    {
      "cell_type": "code",
      "execution_count": null,
      "metadata": {
        "id": "Av50zo2uLFKi",
        "outputId": "3c348dd0-bf16-4fd5-f24a-96d1783ff4e0"
      },
      "outputs": [],
      "source": [
        "# creating a scatter plot of all the locations from where Messi has made assist\n",
        "scatter(iyAssists,\"assists\",\"Assists Location\")"
      ]
    },
    {
      "cell_type": "code",
      "execution_count": null,
      "metadata": {
        "id": "TRwedDLILFKi"
      },
      "outputs": [],
      "source": [
        "# extrating all the players recieving assist from messi\n",
        "iyGAssisted = iyAssists['pass_recipient'].value_counts().rename_axis('player_name').reset_index(name='counts')"
      ]
    },
    {
      "cell_type": "code",
      "execution_count": null,
      "metadata": {
        "id": "_BSHkqKLLFKi",
        "outputId": "f9718592-658b-40f5-a9e1-edba6f680e17"
      },
      "outputs": [],
      "source": [
        "# top 5 players to whom Messi has assisted the most\n",
        "iyGAssisted.head(5)"
      ]
    },
    {
      "cell_type": "code",
      "execution_count": null,
      "metadata": {
        "id": "pMHp7HkjLFKi"
      },
      "outputs": [],
      "source": [
        "# extracting all the set piece information\n",
        "iySPAssists = iyAssists[iyAssists['pass_type'].isin(setpiece)]"
      ]
    },
    {
      "cell_type": "code",
      "execution_count": null,
      "metadata": {
        "id": "9Xhxn5ELLFKi",
        "outputId": "955e2024-5a8a-4cdf-a3a3-6fbc47ae7556"
      },
      "outputs": [],
      "source": [
        "scatter(iySPAssists,\"assists\",\"Assists from Set Pieces\")"
      ]
    },
    {
      "cell_type": "markdown",
      "metadata": {
        "id": "RaMzVU2KLFKj"
      },
      "source": [
        "### Goal Scoring"
      ]
    },
    {
      "cell_type": "code",
      "execution_count": null,
      "metadata": {
        "id": "PHNkop4RLFKj"
      },
      "outputs": [],
      "source": [
        "# extracting all the data related to Messi's goal-scoring during his initial years\n",
        "iyGoals = initialYears[initialYears['shot_outcome']=='Goal']"
      ]
    },
    {
      "cell_type": "code",
      "execution_count": null,
      "metadata": {
        "id": "VsiqlcMALFKj",
        "outputId": "86786831-30ff-4372-a9a1-736b2208b3e4"
      },
      "outputs": [],
      "source": [
        "# plotting a scatter plot of all the positions from where Messi has scored goals from\n",
        "scatter(iyGoals,\"goals\",\"Goals\")"
      ]
    },
    {
      "cell_type": "code",
      "execution_count": null,
      "metadata": {
        "id": "LRRl3FgRLFKj",
        "outputId": "cfd2b9a2-b265-45ef-f3f7-6311d5582cb8"
      },
      "outputs": [],
      "source": [
        "# heatmap depicting areas from where Messi has scored from\n",
        "heatmap(iyGoals,\"goal\",\"Where Messi Scores from\")"
      ]
    },
    {
      "cell_type": "code",
      "execution_count": null,
      "metadata": {
        "id": "JHnF_E7WLFKj"
      },
      "outputs": [],
      "source": [
        "# extracting all the goals scored from set pieces\n",
        "iySPGoal = iyGoals[iyGoals['shot_type'].isin(setpiece)]"
      ]
    },
    {
      "cell_type": "code",
      "execution_count": null,
      "metadata": {
        "id": "4SCwc9ivLFKj",
        "outputId": "a9c3d96e-6fe7-4e7f-930f-52caa3b52ba8"
      },
      "outputs": [],
      "source": [
        "# scatter plot showing all the goals sored from set pieces\n",
        "scatter(iySPGoal,\"goals\",\"Messi Goals from Set Pieces\")"
      ]
    },
    {
      "cell_type": "markdown",
      "metadata": {
        "id": "uwFc2I_CLFKj"
      },
      "source": [
        "## European Dominance\n",
        "## Analyzing all the plots and stats for the overall data for Messi"
      ]
    },
    {
      "cell_type": "code",
      "execution_count": null,
      "metadata": {
        "id": "HyP0iBeVLFKj",
        "outputId": "f4c60a14-1704-4f0c-e243-21c9d6d1731f"
      },
      "outputs": [],
      "source": [
        "heatmap(pepYears,\"all\",\"Messi Action Zones\")"
      ]
    },
    {
      "cell_type": "markdown",
      "metadata": {
        "id": "tFlTClhlLFKj"
      },
      "source": [
        "### Movement"
      ]
    },
    {
      "cell_type": "code",
      "execution_count": null,
      "metadata": {
        "id": "vuYCFXHrLFKj"
      },
      "outputs": [],
      "source": [
        "pyCarry = pepYears[pepYears['type']=='Carry']"
      ]
    },
    {
      "cell_type": "code",
      "execution_count": null,
      "metadata": {
        "id": "g2lKlYslLFKj",
        "outputId": "7322d845-08f4-4cd2-9dd2-5a1d625e0ed9"
      },
      "outputs": [],
      "source": [
        "heatmap(pyCarry,\"carryStart\", \"Where Messi Starts Carrying\")"
      ]
    },
    {
      "cell_type": "code",
      "execution_count": null,
      "metadata": {
        "id": "7Bsz8-8SLFKj",
        "outputId": "edbed31d-3ca9-415e-9802-2e1ff8ba21bf"
      },
      "outputs": [],
      "source": [
        "heatmap(pyCarry,\"carryEnd\", \"Where Messi Ends Carrying\")"
      ]
    },
    {
      "cell_type": "code",
      "execution_count": null,
      "metadata": {
        "id": "ODyMMP-RLFKk"
      },
      "outputs": [],
      "source": [
        "pyDribbles = pepYears[pepYears['type']==\"Dribble\"]\n",
        "pyASDribbles = pyDribbles[pyDribbles['dribble_outcome']=='Complete']\n",
        "pyNDribbles = pyASDribbles[pyASDribbles['dribble_nutmeg']==True]\n",
        "pySDribbles = pyASDribbles[pyASDribbles['dribble_nutmeg'].isna()]\n",
        "pyUDribbles = pyDribbles[pyDribbles['dribble_outcome']=='Incomplete']"
      ]
    },
    {
      "cell_type": "code",
      "execution_count": null,
      "metadata": {
        "id": "MWi37bCLLFKk",
        "outputId": "00b80f12-a564-4358-b17a-e3a09a279278"
      },
      "outputs": [],
      "source": [
        "drib(pySDribbles,pyNDribbles,pyUDribbles,\"Where Messi attempts Dribbles\")"
      ]
    },
    {
      "cell_type": "code",
      "execution_count": null,
      "metadata": {
        "id": "p-tl-o4QLFKk",
        "outputId": "9c29e9e3-f2a5-4056-9113-301429c50db5"
      },
      "outputs": [],
      "source": [
        "heatmap(pyASDribbles,\"dribble\",\"Where Messi Successfuly\\n Dribbles past players\")"
      ]
    },
    {
      "cell_type": "markdown",
      "metadata": {
        "id": "ZLODuCeFLFKk"
      },
      "source": [
        "### Passing"
      ]
    },
    {
      "cell_type": "code",
      "execution_count": null,
      "metadata": {
        "id": "aqPc7TvOLFKk"
      },
      "outputs": [],
      "source": [
        "passesPY = pepYears[pepYears['type']=='Pass']\n",
        "sPPY = passesPY[passesPY['pass_outcome'].isna()]"
      ]
    },
    {
      "cell_type": "code",
      "execution_count": null,
      "metadata": {
        "id": "NpbOPIu7LFKk",
        "outputId": "1007ad35-9ce6-4b4f-e4d6-943c25257a77"
      },
      "outputs": [],
      "source": [
        "hexbin(sPPY,\"Where Messi passes from\",\"Where passes end up\")"
      ]
    },
    {
      "cell_type": "code",
      "execution_count": null,
      "metadata": {
        "id": "ntNNirjXLFKk",
        "outputId": "51787e3c-a7fc-40a4-c5a3-51d7554fe176"
      },
      "outputs": [],
      "source": [
        "syTopRecip = sPPY['pass_recipient'].value_counts().rename_axis('player_name').reset_index(name='counts').head(5)\n",
        "syTopRecip"
      ]
    },
    {
      "cell_type": "markdown",
      "metadata": {
        "id": "drzVqFLxLFKk"
      },
      "source": [
        "### Playmaking"
      ]
    },
    {
      "cell_type": "code",
      "execution_count": null,
      "metadata": {
        "id": "-sX6IUQ4LFKk",
        "outputId": "2adef1ce-c442-4513-c5d0-d0da2706470d"
      },
      "outputs": [],
      "source": [
        "dangerPass(sPPY,\"p\",\"Dangerous Passes\")"
      ]
    },
    {
      "cell_type": "markdown",
      "metadata": {
        "id": "U3LNTsnJLFKk"
      },
      "source": [
        "#### Assists"
      ]
    },
    {
      "cell_type": "code",
      "execution_count": null,
      "metadata": {
        "id": "M4A-h0O4LFKk"
      },
      "outputs": [],
      "source": [
        "pyAssists = pepYears[pepYears['pass_goal_assist']==True]"
      ]
    },
    {
      "cell_type": "code",
      "execution_count": null,
      "metadata": {
        "id": "lANbVOofLFKk",
        "outputId": "a302f051-51cb-4f33-b07a-f1b27e23ddfa"
      },
      "outputs": [],
      "source": [
        "scatter(pyAssists,\"assists\",\"Assists Location\")"
      ]
    },
    {
      "cell_type": "code",
      "execution_count": null,
      "metadata": {
        "id": "VnibHKNwLFKk"
      },
      "outputs": [],
      "source": [
        "pyGAssisted = pyAssists['pass_recipient'].value_counts().rename_axis('player_name').reset_index(name='counts').head(5)"
      ]
    },
    {
      "cell_type": "code",
      "execution_count": null,
      "metadata": {
        "id": "7NTiVRabLFKl",
        "outputId": "b5c5ab0d-4134-41d3-fca9-23556166104c"
      },
      "outputs": [],
      "source": [
        "pyGAssisted"
      ]
    },
    {
      "cell_type": "code",
      "execution_count": null,
      "metadata": {
        "id": "vzPw4OzrLFKl"
      },
      "outputs": [],
      "source": [
        "pySPAssists = pyAssists[pyAssists['pass_type'].isin(setpiece)]"
      ]
    },
    {
      "cell_type": "code",
      "execution_count": null,
      "metadata": {
        "id": "4EATXbZwLFKl",
        "outputId": "ec86b6bf-9a58-4695-8217-c1d1e29371df"
      },
      "outputs": [],
      "source": [
        "scatter(pySPAssists,\"assists\",\"Assists from Set Pieces\")"
      ]
    },
    {
      "cell_type": "markdown",
      "metadata": {
        "id": "RYmeh6S9LFKl"
      },
      "source": [
        "### Goal Scoring"
      ]
    },
    {
      "cell_type": "code",
      "execution_count": null,
      "metadata": {
        "id": "E3RQOAKzLFKl"
      },
      "outputs": [],
      "source": [
        "pyGoals = pepYears[pepYears['shot_outcome']=='Goal']"
      ]
    },
    {
      "cell_type": "code",
      "execution_count": null,
      "metadata": {
        "id": "FKzJPDyPLFKl",
        "outputId": "babc804c-ecbc-4a08-eb7a-834cdfe46c0b"
      },
      "outputs": [],
      "source": [
        "scatter(pyGoals,\"goals\",\"Goals\")"
      ]
    },
    {
      "cell_type": "code",
      "execution_count": null,
      "metadata": {
        "id": "TG8qV3AaLFKl",
        "outputId": "d315d519-c32f-46da-8906-2bfea907af21"
      },
      "outputs": [],
      "source": [
        "heatmap(pyGoals,\"goal\",\"Where Messi Scores from\")"
      ]
    },
    {
      "cell_type": "code",
      "execution_count": null,
      "metadata": {
        "id": "fHSgZKXZLFKl"
      },
      "outputs": [],
      "source": [
        "pySPGoal = pyGoals[pyGoals['shot_type'].isin(setpiece)]"
      ]
    },
    {
      "cell_type": "code",
      "execution_count": null,
      "metadata": {
        "id": "2RiRXn9lLFKl",
        "outputId": "8f982976-cd87-4382-f052-ecbe1fbfc1ac"
      },
      "outputs": [],
      "source": [
        "scatter(pySPGoal,\"goals\",\"Messi Goals from Set Pieces\")"
      ]
    },
    {
      "cell_type": "markdown",
      "metadata": {
        "id": "fm-S-ZbsLFKl"
      },
      "source": [
        "## Greatest Front Three"
      ]
    },
    {
      "cell_type": "code",
      "execution_count": null,
      "metadata": {
        "id": "gJcWxQrxLFKl",
        "outputId": "4c2b4575-48df-4603-fb42-6175b911592b"
      },
      "outputs": [],
      "source": [
        "heatmap(msnYears,\"all\",\"Messi Action Zones\")"
      ]
    },
    {
      "cell_type": "markdown",
      "metadata": {
        "id": "exJ6C9zDLFKl"
      },
      "source": [
        "### Movement"
      ]
    },
    {
      "cell_type": "code",
      "execution_count": null,
      "metadata": {
        "id": "9vIgXYT0LFKl"
      },
      "outputs": [],
      "source": [
        "myCarry = msnYears[msnYears['type']=='Carry']"
      ]
    },
    {
      "cell_type": "code",
      "execution_count": null,
      "metadata": {
        "id": "eEU6MBLMLFKm",
        "outputId": "e74c6044-b124-4df6-e3df-b7446daf3c0c"
      },
      "outputs": [],
      "source": [
        "heatmap(myCarry,\"carryStart\", \"Where Messi Starts Carrying\")"
      ]
    },
    {
      "cell_type": "code",
      "execution_count": null,
      "metadata": {
        "id": "4kqV5qQ1LFKm",
        "outputId": "f130ac07-a26a-49b9-97b0-e2e177058ac9"
      },
      "outputs": [],
      "source": [
        "heatmap(myCarry,\"carryEnd\", \"Where Messi Ends Carrying\")"
      ]
    },
    {
      "cell_type": "code",
      "execution_count": null,
      "metadata": {
        "id": "J-tus_jnLFKm"
      },
      "outputs": [],
      "source": [
        "myDribbles = msnYears[msnYears['type']==\"Dribble\"]\n",
        "myASDribbles = myDribbles[myDribbles['dribble_outcome']=='Complete']\n",
        "myNDribbles = myASDribbles[myASDribbles['dribble_nutmeg']==True]\n",
        "mySDribbles = myASDribbles[myASDribbles['dribble_nutmeg'].isna()]\n",
        "myUDribbles = myDribbles[myDribbles['dribble_outcome']=='Incomplete']"
      ]
    },
    {
      "cell_type": "code",
      "execution_count": null,
      "metadata": {
        "id": "QkLuhT33LFKm",
        "outputId": "c2848d1a-89be-4657-bd96-137401a786ed"
      },
      "outputs": [],
      "source": [
        "drib(mySDribbles,myNDribbles,myUDribbles,\"Where Messi attempts Dribbles\")"
      ]
    },
    {
      "cell_type": "code",
      "execution_count": null,
      "metadata": {
        "id": "vfJP7K_OLFKm",
        "outputId": "8042a266-abd2-4e80-ce2d-29d2261b664a"
      },
      "outputs": [],
      "source": [
        "heatmap(myASDribbles,\"dribble\",\"Where Messi Successfuly Dribbles\\n past players\")"
      ]
    },
    {
      "cell_type": "markdown",
      "metadata": {
        "id": "yaTYHYI2LFKm"
      },
      "source": [
        "### Passing"
      ]
    },
    {
      "cell_type": "code",
      "execution_count": null,
      "metadata": {
        "id": "c0Wm-d5mLFKm"
      },
      "outputs": [],
      "source": [
        "passesMY = msnYears[msnYears['type']=='Pass']\n",
        "sPMY = passesMY[passesMY['pass_outcome'].isna()]"
      ]
    },
    {
      "cell_type": "code",
      "execution_count": null,
      "metadata": {
        "id": "ft_61ylsLFKm",
        "outputId": "dff7178d-3ea1-441b-879f-c1f1cf864b4f"
      },
      "outputs": [],
      "source": [
        "hexbin(sPMY,\"Where Messi passes from\",\"Where passes end up\")"
      ]
    },
    {
      "cell_type": "code",
      "execution_count": null,
      "metadata": {
        "id": "bAG7eQRJLFKm",
        "outputId": "cbc3a212-7df1-4d8f-f7e2-32c05adce6bf"
      },
      "outputs": [],
      "source": [
        "myTopRecip = sPMY['pass_recipient'].value_counts().rename_axis('player_name').reset_index(name='counts').head(5)\n",
        "myTopRecip"
      ]
    },
    {
      "cell_type": "markdown",
      "metadata": {
        "id": "sGUEIvNuLFKm"
      },
      "source": [
        "### Playmaking"
      ]
    },
    {
      "cell_type": "code",
      "execution_count": null,
      "metadata": {
        "id": "2Mkn1c-HLFKm",
        "outputId": "6276c53b-fb1f-41a0-d7a5-87f82e1eff07"
      },
      "outputs": [],
      "source": [
        "dangerPass(sPMY,\"p\",\"Dangerous Passes\")"
      ]
    },
    {
      "cell_type": "markdown",
      "metadata": {
        "id": "bW0_HskiLFKm"
      },
      "source": [
        "#### Assists"
      ]
    },
    {
      "cell_type": "code",
      "execution_count": null,
      "metadata": {
        "id": "T1y2pQjULFKm"
      },
      "outputs": [],
      "source": [
        "myAssists = msnYears[msnYears['pass_goal_assist']==True]"
      ]
    },
    {
      "cell_type": "code",
      "execution_count": null,
      "metadata": {
        "id": "nMmj1KXHLFKm",
        "outputId": "990bd9b1-0ece-4902-a668-f6a08d7b7f6e"
      },
      "outputs": [],
      "source": [
        "scatter(myAssists,\"assists\",\"Assists Location\")"
      ]
    },
    {
      "cell_type": "code",
      "execution_count": null,
      "metadata": {
        "id": "KyYMqSmtLFKn"
      },
      "outputs": [],
      "source": [
        "myGAssisted = myAssists['pass_recipient'].value_counts().rename_axis('player_name').reset_index(name='counts').head(5)"
      ]
    },
    {
      "cell_type": "code",
      "execution_count": null,
      "metadata": {
        "id": "qupDgk6zLFKn",
        "outputId": "1055cf5c-cc5f-4f0f-f184-2b2e61b025bc"
      },
      "outputs": [],
      "source": [
        "myGAssisted"
      ]
    },
    {
      "cell_type": "code",
      "execution_count": null,
      "metadata": {
        "id": "lUyRgWSzLFKn"
      },
      "outputs": [],
      "source": [
        "mySPAssists = myAssists[myAssists['pass_type'].isin(setpiece)]"
      ]
    },
    {
      "cell_type": "code",
      "execution_count": null,
      "metadata": {
        "id": "5ymlHFmILFKn",
        "outputId": "29d23c0b-f389-48e9-feeb-05537d8cc48a"
      },
      "outputs": [],
      "source": [
        "scatter(mySPAssists,\"assists\",\"Assists from Set Pieces\")"
      ]
    },
    {
      "cell_type": "markdown",
      "metadata": {
        "id": "50KvPKfkLFKn"
      },
      "source": [
        "### Goal Scoring"
      ]
    },
    {
      "cell_type": "code",
      "execution_count": null,
      "metadata": {
        "id": "o4Zhcc-HLFKn"
      },
      "outputs": [],
      "source": [
        "myGoals = msnYears[msnYears['shot_outcome']=='Goal']"
      ]
    },
    {
      "cell_type": "code",
      "execution_count": null,
      "metadata": {
        "id": "Jl3p3NMRLFKn",
        "outputId": "5ca14353-106a-467f-a01f-b02cb2ec87be"
      },
      "outputs": [],
      "source": [
        "scatter(myGoals,\"goals\",\"Goals\")"
      ]
    },
    {
      "cell_type": "code",
      "execution_count": null,
      "metadata": {
        "id": "1BYvufQqLFKn",
        "outputId": "7610407f-e79c-4488-87d9-89b823222aa2"
      },
      "outputs": [],
      "source": [
        "heatmap(myGoals,\"goal\",\"Where Messi Scores from\")"
      ]
    },
    {
      "cell_type": "code",
      "execution_count": null,
      "metadata": {
        "id": "7FTFPpoMLFKn"
      },
      "outputs": [],
      "source": [
        "mySPGoal = myGoals[myGoals['shot_type'].isin(setpiece)]"
      ]
    },
    {
      "cell_type": "code",
      "execution_count": null,
      "metadata": {
        "id": "l9YlsimmLFKn",
        "outputId": "7661b6a0-f301-487f-fb7c-f129e739b546"
      },
      "outputs": [],
      "source": [
        "scatter(mySPGoal,\"goals\",\"Messi Goals from Set Pieces\")"
      ]
    },
    {
      "cell_type": "markdown",
      "metadata": {
        "id": "SqJstuU-LFKn"
      },
      "source": [
        "## Swan Song"
      ]
    },
    {
      "cell_type": "code",
      "execution_count": null,
      "metadata": {
        "id": "CwRRWzmBLFKn",
        "outputId": "c7de7b20-a603-43da-97a5-195b7e81534a"
      },
      "outputs": [],
      "source": [
        "heatmap(swanSong,\"all\",\"Messi Action Zones\")"
      ]
    },
    {
      "cell_type": "markdown",
      "metadata": {
        "id": "2dME4gAALFKn"
      },
      "source": [
        "### Movement"
      ]
    },
    {
      "cell_type": "code",
      "execution_count": null,
      "metadata": {
        "id": "14ppYPFqLFKo"
      },
      "outputs": [],
      "source": [
        "syCarry = swanSong[swanSong['type']=='Carry']"
      ]
    },
    {
      "cell_type": "code",
      "execution_count": null,
      "metadata": {
        "id": "A_nPl8kfLFKo",
        "outputId": "332ccac6-8ced-4e8d-f984-c161dc641aa1"
      },
      "outputs": [],
      "source": [
        "heatmap(syCarry,\"carryStart\", \"Where Messi Starts Carrying\")"
      ]
    },
    {
      "cell_type": "code",
      "execution_count": null,
      "metadata": {
        "id": "xZSnnzcCLFKo",
        "outputId": "51615349-d144-448e-e8f2-83bfc55ad8d3"
      },
      "outputs": [],
      "source": [
        "heatmap(syCarry,\"carryEnd\", \"Where Messi Ends Carrying\")"
      ]
    },
    {
      "cell_type": "code",
      "execution_count": null,
      "metadata": {
        "id": "fDgeD1INLFKo"
      },
      "outputs": [],
      "source": [
        "syDribbles = swanSong[swanSong['type']==\"Dribble\"]\n",
        "syASDribbles = syDribbles[syDribbles['dribble_outcome']=='Complete']\n",
        "syNDribbles = syASDribbles[syASDribbles['dribble_nutmeg']==True]\n",
        "sySDribbles = syASDribbles[syASDribbles['dribble_nutmeg'].isna()]\n",
        "syUDribbles = syDribbles[syDribbles['dribble_outcome']=='Incomplete']"
      ]
    },
    {
      "cell_type": "code",
      "execution_count": null,
      "metadata": {
        "id": "UcY5pRaCLFKo",
        "outputId": "dfde07b0-d5f9-472b-b1a1-54779c91eb3e"
      },
      "outputs": [],
      "source": [
        "drib(sySDribbles,syNDribbles,syUDribbles,\"Where Messi attempts Dribbles\")"
      ]
    },
    {
      "cell_type": "code",
      "execution_count": null,
      "metadata": {
        "id": "dF3rWS-dLFKo",
        "outputId": "92c8b9ed-44f5-454a-8d23-20f83e299a4e"
      },
      "outputs": [],
      "source": [
        "heatmap(syASDribbles,\"dribble\",\"Where Messi Successfuly Dribbles\\n past players\")"
      ]
    },
    {
      "cell_type": "markdown",
      "metadata": {
        "id": "e6_JHxo7LFKo"
      },
      "source": [
        "### Passing"
      ]
    },
    {
      "cell_type": "code",
      "execution_count": null,
      "metadata": {
        "id": "5BNRv026LFKo"
      },
      "outputs": [],
      "source": [
        "passesSY = swanSong[swanSong['type']=='Pass']\n",
        "sPSY = passesSY[passesSY['pass_outcome'].isna()]"
      ]
    },
    {
      "cell_type": "code",
      "execution_count": null,
      "metadata": {
        "id": "1z5tLsKJLFKo",
        "outputId": "03852769-9f40-4a9e-aef2-b3b0f5cfacd7"
      },
      "outputs": [],
      "source": [
        "hexbin(sPSY,\"Where Messi passes from\",\"Where passes end up\")"
      ]
    },
    {
      "cell_type": "code",
      "execution_count": null,
      "metadata": {
        "id": "kGW59Sh3LFKo",
        "outputId": "9e5a3811-e3fa-45f0-986a-9d4ca5c70316"
      },
      "outputs": [],
      "source": [
        "syTopRecip = sPSY['pass_recipient'].value_counts().rename_axis('player_name').reset_index(name='counts').head(5)\n",
        "syTopRecip"
      ]
    },
    {
      "cell_type": "markdown",
      "metadata": {
        "id": "phGkbPsDLFKo"
      },
      "source": [
        "### Playmaking"
      ]
    },
    {
      "cell_type": "code",
      "execution_count": null,
      "metadata": {
        "id": "42lLV7wJLFKo",
        "outputId": "9150ebb1-cd5a-4372-bebf-95d191994f5a"
      },
      "outputs": [],
      "source": [
        "dangerPass(sPSY,\"p\",\"Dangerous Passes\")"
      ]
    },
    {
      "cell_type": "markdown",
      "metadata": {
        "id": "ykTbA6RtLFKo"
      },
      "source": [
        "#### Assists"
      ]
    },
    {
      "cell_type": "code",
      "execution_count": null,
      "metadata": {
        "id": "2H_xXxn5LFKo"
      },
      "outputs": [],
      "source": [
        "syAssists = swanSong[swanSong['pass_goal_assist']==True]"
      ]
    },
    {
      "cell_type": "code",
      "execution_count": null,
      "metadata": {
        "id": "JJ1jaQs6LFKp",
        "outputId": "f5a92607-083f-4a4a-b4b3-0ba1715c9521"
      },
      "outputs": [],
      "source": [
        "scatter(syAssists,\"assists\",\"Assists Location\")"
      ]
    },
    {
      "cell_type": "code",
      "execution_count": null,
      "metadata": {
        "id": "3yDxInnoLFKp"
      },
      "outputs": [],
      "source": [
        "syGAssisted = syAssists['pass_recipient'].value_counts().rename_axis('player_name').reset_index(name='counts').head(5)"
      ]
    },
    {
      "cell_type": "code",
      "execution_count": null,
      "metadata": {
        "id": "tiALFOl_LFKp",
        "outputId": "ca82467b-dded-4391-f4e9-ea368d2f5548"
      },
      "outputs": [],
      "source": [
        "syGAssisted"
      ]
    },
    {
      "cell_type": "code",
      "execution_count": null,
      "metadata": {
        "id": "BCRtMRccLFKp"
      },
      "outputs": [],
      "source": [
        "sySPAssists = syAssists[syAssists['pass_type'].isin(setpiece)]"
      ]
    },
    {
      "cell_type": "code",
      "execution_count": null,
      "metadata": {
        "id": "91QAzJzCLFKp",
        "outputId": "3d3d01fa-c5eb-4cff-f03f-87a9a0b0bb91"
      },
      "outputs": [],
      "source": [
        "scatter(sySPAssists,\"assists\",\"Assists from Set Pieces\")"
      ]
    },
    {
      "cell_type": "markdown",
      "metadata": {
        "id": "vwd7otk6LFKp"
      },
      "source": [
        "### Goal Scoring"
      ]
    },
    {
      "cell_type": "code",
      "execution_count": null,
      "metadata": {
        "id": "QXhH7ItQLFKp"
      },
      "outputs": [],
      "source": [
        "syGoals = swanSong[swanSong['shot_outcome']=='Goal']"
      ]
    },
    {
      "cell_type": "code",
      "execution_count": null,
      "metadata": {
        "id": "O2VKVwYtLFKp",
        "outputId": "52ffa276-7dfc-46c8-fc68-f95d87f9628e"
      },
      "outputs": [],
      "source": [
        "scatter(syGoals,\"goals\",\"Goals\")"
      ]
    },
    {
      "cell_type": "code",
      "execution_count": null,
      "metadata": {
        "id": "JhhxdpawLFKp",
        "outputId": "d8715f30-3722-4a75-bc0d-c15acf398e25"
      },
      "outputs": [],
      "source": [
        "heatmap(syGoals,\"goal\",\"Where Messi Scores from\")"
      ]
    },
    {
      "cell_type": "code",
      "execution_count": null,
      "metadata": {
        "id": "XBWr92DsLFKp"
      },
      "outputs": [],
      "source": [
        "sySPGoal = syGoals[syGoals['shot_type'].isin(setpiece)]"
      ]
    },
    {
      "cell_type": "code",
      "execution_count": null,
      "metadata": {
        "id": "x1BdprQ0LFKp",
        "outputId": "68ab2239-ab87-4cff-e943-95c2caa853a4"
      },
      "outputs": [],
      "source": [
        "scatter(sySPGoal,\"goals\",\"Messi Goals from Set Pieces\")"
      ]
    },
    {
      "cell_type": "markdown",
      "metadata": {
        "id": "UrD-EcwiLFKp"
      },
      "source": [
        "# Juego de Posición (Positional Play)"
      ]
    },
    {
      "cell_type": "code",
      "execution_count": null,
      "metadata": {
        "id": "zJGUNXOSLFKp",
        "outputId": "0a95e97b-5ff8-474f-ab6f-72bcabdbcf41"
      },
      "outputs": [],
      "source": [
        "pitch =Pitch(pitch_type='statsbomb',pitch_color='#004d98', line_color='#edbb00',positional=True)\n",
        "fig, ax = pitch.draw()\n",
        "\n",
        "fig.set_facecolor('#a50044')"
      ]
    },
    {
      "cell_type": "markdown",
      "metadata": {
        "id": "xn9DHyZeLFKq"
      },
      "source": [
        "# Evolution"
      ]
    },
    {
      "cell_type": "code",
      "execution_count": null,
      "metadata": {
        "colab": {
          "base_uri": "https://localhost:8080/",
          "height": 250
        },
        "id": "jAIlb6MpLFKq",
        "outputId": "9b3ec1ef-fd1d-4853-ed6b-5d9e753da7ec"
      },
      "outputs": [],
      "source": [
        "# plotting the average playing location over the years for Messi\n",
        "avgIYX = avgLoc(initialYears, \"x\")\n",
        "avgIYY = avgLoc(initialYears, \"y\")\n",
        "\n",
        "avgPYX = avgLoc(pepYears, \"x\")\n",
        "avgPYY = avgLoc(pepYears, \"y\")\n",
        "\n",
        "avgMYX = avgLoc(msnYears, \"x\")\n",
        "avgMYY = avgLoc(msnYears, \"y\")\n",
        "\n",
        "avgSYX = avgLoc(swanSong, \"x\")\n",
        "avgSYY = avgLoc(swanSong, \"y\")"
      ]
    },
    {
      "cell_type": "code",
      "execution_count": null,
      "metadata": {
        "id": "weyCgB1dLFKq",
        "outputId": "fe3f97ce-54ec-4fe4-b886-0c8a6ceed243"
      },
      "outputs": [],
      "source": [
        "evolution(avgIYX,avgIYY,avgPYX,avgPYY,avgMYX,avgMYY,avgSYX,avgSYY,\"Avg Position\")"
      ]
    },
    {
      "cell_type": "markdown",
      "metadata": {
        "id": "18AqDHf2LFKq"
      },
      "source": [
        "## Movement"
      ]
    },
    {
      "cell_type": "code",
      "execution_count": null,
      "metadata": {
        "colab": {
          "base_uri": "https://localhost:8080/",
          "height": 250
        },
        "id": "DHEsFRa-LFKq",
        "outputId": "2f2fb741-0086-408d-b975-a9b66a38f1f7"
      },
      "outputs": [],
      "source": [
        "# plotting the average movement f Messi with the ball\n",
        "avgIYCarrySX = avgLoc(iyCarry,\"x\")\n",
        "avgIYCarrySY = avgLoc(iyCarry,\"y\")\n",
        "\n",
        "avgPYCarrySX = avgLoc(pyCarry,\"x\")\n",
        "avgPYCarrySY = avgLoc(pyCarry,\"y\")\n",
        "\n",
        "avgMYCarrySX = avgLoc(myCarry,\"x\")\n",
        "avgMYCarrySY = avgLoc(myCarry,\"y\")\n",
        "\n",
        "avgSYCarrySX = avgLoc(syCarry,\"x\")\n",
        "avgSYCarrySY = avgLoc(syCarry,\"y\")"
      ]
    },
    {
      "cell_type": "code",
      "execution_count": null,
      "metadata": {
        "id": "3q155KmuLFKq",
        "outputId": "51ebd744-d320-4bbe-8279-f5b5bfc2f0f9"
      },
      "outputs": [],
      "source": [
        "evolution(avgIYCarrySX,avgIYCarrySY,avgPYCarrySX,avgPYCarrySY,avgMYCarrySX,avgMYCarrySY,avgSYCarrySX,avgSYCarrySY,\n",
        "          \"Avg Position from where Messi\\n Starts Carrying the Ball\")"
      ]
    },
    {
      "cell_type": "code",
      "execution_count": null,
      "metadata": {
        "id": "OjXvk4_4LFKq"
      },
      "outputs": [],
      "source": [
        "# average position where Messi finishes his dribbling\n",
        "avgIYCarryEX = avgLoc(iyCarry,\"xcend\")\n",
        "avgIYCarryEY = avgLoc(iyCarry,\"ycend\")\n",
        "\n",
        "avgPYCarryEX = avgLoc(pyCarry,\"xcend\")\n",
        "avgPYCarryEY = avgLoc(pyCarry,\"ycend\")\n",
        "\n",
        "avgMYCarryEX = avgLoc(myCarry,\"xcend\")\n",
        "avgMYCarryEY = avgLoc(myCarry,\"ycend\")\n",
        "\n",
        "avgSYCarryEX = avgLoc(syCarry,\"xcend\")\n",
        "avgSYCarryEY = avgLoc(syCarry,\"ycend\")"
      ]
    },
    {
      "cell_type": "code",
      "execution_count": null,
      "metadata": {
        "id": "QyVFu4y6LFKq",
        "outputId": "cb6097c8-f710-4383-a692-67476b5be3ad"
      },
      "outputs": [],
      "source": [
        "evolution(avgIYCarryEX,avgIYCarryEY,avgPYCarryEX,avgPYCarryEY,avgMYCarryEX,avgMYCarryEY,avgSYCarryEX,avgSYCarryEY,\n",
        "          \"Avg Position from where Messi\\n Finishes Carrying the Ball\")"
      ]
    },
    {
      "cell_type": "code",
      "execution_count": null,
      "metadata": {
        "id": "5xDHjr1vLFKq"
      },
      "outputs": [],
      "source": [
        "# calculating the average carry length in different phases of his career\n",
        "avgIYCLength = round(math.dist([avgIYCarrySX,avgIYCarrySY],[avgIYCarryEX,avgIYCarryEY]),3)\n",
        "avgPYCLength = round(math.dist([avgPYCarrySX,avgPYCarrySY],[avgPYCarryEX,avgPYCarryEY]),3)\n",
        "avgMYCLength = round(math.dist([avgMYCarrySX,avgMYCarrySY],[avgMYCarryEX,avgMYCarryEY]),3)\n",
        "avgSYCLength = round(math.dist([avgSYCarrySX,avgSYCarrySY],[avgSYCarryEX,avgSYCarryEY]),3)"
      ]
    },
    {
      "cell_type": "code",
      "execution_count": null,
      "metadata": {
        "id": "bMwhRX6GLFKq"
      },
      "outputs": [],
      "source": [
        "# converting the results to a data frame\n",
        "Era = [\"Initial Years\", \"Pep Years\", \"MSN Years\", \"Swan Song\"]\n",
        "avgCLength = [avgIYCLength,avgPYCLength,avgMYCLength,avgSYCLength]\n",
        "\n",
        "cLDict = {'Era': Era, \"Avg Carry Length\": avgCLength}\n",
        "\n",
        "carryLength = pd.DataFrame(cLDict)"
      ]
    },
    {
      "cell_type": "code",
      "execution_count": null,
      "metadata": {
        "id": "h4nDge3BLFKq",
        "outputId": "e64e3bab-5005-486a-8cce-fe3131903b5b"
      },
      "outputs": [],
      "source": [
        "carryLength"
      ]
    },
    {
      "cell_type": "code",
      "execution_count": null,
      "metadata": {
        "id": "omFSvhOULFKq"
      },
      "outputs": [],
      "source": [
        "# average location for the successful dribbles\n",
        "avgIYDribbleX = avgLoc(iyASDribbles,\"x\")\n",
        "avgIYDribbleY = avgLoc(iyASDribbles,\"y\")\n",
        "\n",
        "avgPYDribbleX = avgLoc(pyASDribbles,\"x\")\n",
        "avgPYDribbleY = avgLoc(pyASDribbles,\"y\")\n",
        "\n",
        "avgMYDribbleX = avgLoc(myASDribbles,\"x\")\n",
        "avgMYDribbleY = avgLoc(myASDribbles,\"y\")\n",
        "\n",
        "avgSYDribbleX = avgLoc(syASDribbles,\"x\")\n",
        "avgSYDribbleY = avgLoc(syASDribbles,\"y\")"
      ]
    },
    {
      "cell_type": "code",
      "execution_count": null,
      "metadata": {
        "id": "YNdGzyDnLFKq",
        "outputId": "f6d6ea20-fe89-43bb-d88e-781b55dda6cf"
      },
      "outputs": [],
      "source": [
        "evolution(avgIYDribbleX,avgIYDribbleY,avgPYDribbleX,avgPYDribbleY,avgMYDribbleX,avgMYDribbleY,avgSYDribbleX,avgSYDribbleY,\n",
        "          \"Avg Location of Successfull Dribbles\")"
      ]
    },
    {
      "cell_type": "markdown",
      "metadata": {
        "id": "XDvLn_vcLFKq"
      },
      "source": [
        "## Passing"
      ]
    },
    {
      "cell_type": "code",
      "execution_count": null,
      "metadata": {
        "id": "jTAWJU7FLFKr",
        "outputId": "503e8b48-f18b-4051-baaf-59b884a87905"
      },
      "outputs": [],
      "source": [
        "# most common area of passes under different managers (start Location)\n",
        "kdePlot(sPIY,sPPY,sPMY,sPSY,\"s\",\"Most Common Pass Start Location\")"
      ]
    },
    {
      "cell_type": "code",
      "execution_count": null,
      "metadata": {
        "id": "bp5IjVB6LFKr",
        "outputId": "84b570a4-d46b-4d46-93fc-0fd29b5f6fa5"
      },
      "outputs": [],
      "source": [
        "# most common area of passes under different managers (end Location)\n",
        "kdePlot(sPIY,sPPY,sPMY,sPSY,\"e\",\"Most Common Pass End Location\")"
      ]
    },
    {
      "cell_type": "code",
      "execution_count": null,
      "metadata": {
        "id": "bQC9PEaxLFKr"
      },
      "outputs": [],
      "source": [
        "avgIYSPassSX = avgLoc(sPIY,\"x\")\n",
        "avgIYSPassSY = avgLoc(sPIY,\"y\")\n",
        "\n",
        "avgPYSPassSX = avgLoc(sPPY,\"x\")\n",
        "avgPYSPassSY = avgLoc(sPPY,\"y\")\n",
        "\n",
        "avgMYSPassSX = avgLoc(sPMY,\"x\")\n",
        "avgMYSPassSY = avgLoc(sPMY,\"y\")\n",
        "\n",
        "avgSYSPassSX = avgLoc(sPSY,\"x\")\n",
        "avgSYSPassSY = avgLoc(sPSY,\"y\")"
      ]
    },
    {
      "cell_type": "code",
      "execution_count": null,
      "metadata": {
        "id": "7uf6hf7rLFKr"
      },
      "outputs": [],
      "source": [
        "avgIYPassEX = avgLoc(sPIY,\"xend\")\n",
        "avgIYPassEY = avgLoc(sPIY,\"yend\")\n",
        "\n",
        "avgPYPassEX = avgLoc(sPPY,\"xend\")\n",
        "avgPYPassEY = avgLoc(sPPY,\"yend\")\n",
        "\n",
        "avgMYPassEX = avgLoc(sPMY,\"xend\")\n",
        "avgMYPassEY = avgLoc(sPMY,\"yend\")\n",
        "\n",
        "avgSYPassEX = avgLoc(sPSY,\"xend\")\n",
        "avgSYPassEY = avgLoc(sPSY,\"yend\")"
      ]
    },
    {
      "cell_type": "code",
      "execution_count": null,
      "metadata": {
        "id": "4tNX3awhLFKr"
      },
      "outputs": [],
      "source": [
        "# calculating the average pass length under different managers\n",
        "avgIYSPLength = round(math.dist([avgIYSPassSX,avgIYSPassSY],[avgIYPassEX,avgIYPassEY]),3)\n",
        "avgPYSPLength = round(math.dist([avgPYSPassSX,avgPYSPassSY],[avgPYPassEX,avgPYPassEY]),3)\n",
        "avgMYSPLength = round(math.dist([avgMYSPassSX,avgMYSPassSY],[avgMYPassEX,avgMYPassEY]),3)\n",
        "avgSYSPLength = round(math.dist([avgSYSPassSX,avgSYSPassSY],[avgSYPassEX,avgSYPassEY]),3)"
      ]
    },
    {
      "cell_type": "code",
      "execution_count": null,
      "metadata": {
        "id": "L28RxeRrLFKr"
      },
      "outputs": [],
      "source": [
        "# convertning the results into a data frame\n",
        "avgSPLength = [avgIYSPLength,avgPYSPLength,avgMYSPLength,avgSYSPLength]\n",
        "\n",
        "spLDict = {'Era': Era, \"Avg Successful Pass Length\": avgSPLength}\n",
        "\n",
        "passLength = pd.DataFrame(spLDict)"
      ]
    },
    {
      "cell_type": "code",
      "execution_count": null,
      "metadata": {
        "id": "FXOp7D4gLFKr",
        "outputId": "4e23b530-f06c-41d4-e23b-b993f58bd31d"
      },
      "outputs": [],
      "source": [
        "passLength"
      ]
    },
    {
      "cell_type": "code",
      "execution_count": null,
      "metadata": {
        "id": "p04kWIYhLFKr"
      },
      "outputs": [],
      "source": [
        "# extracting all the succesfu, unsuccesful passes\n",
        "uPIY = passesIY[passesIY['pass_outcome'].isna()==False]\n",
        "uPPY = passesPY[passesPY['pass_outcome'].isna()==False]\n",
        "uPMY = passesMY[passesMY['pass_outcome'].isna()==False]\n",
        "uPSY = passesSY[passesSY['pass_outcome'].isna()==False]"
      ]
    },
    {
      "cell_type": "code",
      "execution_count": null,
      "metadata": {
        "id": "sJRuZUNRLFKr"
      },
      "outputs": [],
      "source": [
        "# calculating the pass success rate and storing the data in a Data Frame\n",
        "numSPass = [len(sPIY),len(sPPY),len(sPMY),len(sPSY)]\n",
        "numUPass = [len(uPIY),len(uPPY),len(uPMY),len(uPSY)]\n",
        "centSPass = [str(round(len(sPIY)/len(passesIY)*100,1))+'%', str(round(len(sPPY)/len(passesPY)*100,1))+'%',\n",
        "             str(round(len(sPMY)/len(passesMY)*100,1))+'%', str(round(len(sPSY)/len(passesSY)*100,1))+'%']\n",
        "\n",
        "pNDict = {'Era': Era, \"Num Successful Pass\": numSPass, \"Num Unsuccessful Pass\": numUPass,\"Percentage Successful Pass\":centSPass}\n",
        "\n",
        "passPercentage = pd.DataFrame(pNDict)"
      ]
    },
    {
      "cell_type": "code",
      "execution_count": null,
      "metadata": {
        "id": "pgZvZtkmLFKr",
        "outputId": "4bde5268-6a9c-4f31-e67d-850265db6eb7"
      },
      "outputs": [],
      "source": [
        "passPercentage"
      ]
    },
    {
      "cell_type": "code",
      "execution_count": null,
      "metadata": {
        "id": "HFr2cRKBLFKr"
      },
      "outputs": [],
      "source": [
        "# Filtering the players recieving most number of passes from Messi\n",
        "passes = eventsMessi[eventsMessi['type']=='Pass']\n",
        "sPasses = passes[passes['pass_outcome'].isna()]\n",
        "topRecip = sPasses['pass_recipient'].value_counts().rename_axis('player_name').reset_index(name='counts').head(5)"
      ]
    },
    {
      "cell_type": "code",
      "execution_count": null,
      "metadata": {
        "id": "rgmweMhYLFKr",
        "outputId": "ea038b58-2de1-4961-ee98-a007ffddf4ba"
      },
      "outputs": [],
      "source": [
        "topRecip"
      ]
    },
    {
      "cell_type": "markdown",
      "metadata": {
        "id": "f78fmqFwLFKr"
      },
      "source": [
        "## Playmaking"
      ]
    },
    {
      "cell_type": "code",
      "execution_count": null,
      "metadata": {
        "id": "O2-VAxqqLFKr"
      },
      "outputs": [],
      "source": [
        "# extracting all the danger passes leading to goal in different eras\n",
        "dangerPIY = dangerPass(sPIY,\"c\",\"d\")\n",
        "dangerPPY = dangerPass(sPPY,\"c\",\"d\")\n",
        "dangerPMY = dangerPass(sPMY,\"c\",\"d\")\n",
        "dangerPSY = dangerPass(sPSY,\"c\",\"d\")"
      ]
    },
    {
      "cell_type": "code",
      "execution_count": null,
      "metadata": {
        "id": "kGlcosqfLFKs"
      },
      "outputs": [],
      "source": [
        "avgIYDPassSX = avgLoc(dangerPIY,\"x\")\n",
        "avgIYDPassSY = avgLoc(dangerPIY,\"y\")\n",
        "\n",
        "avgPYDPassSX = avgLoc(dangerPPY,\"x\")\n",
        "avgPYDPassSY = avgLoc(dangerPPY,\"y\")\n",
        "\n",
        "avgMYDPassSX = avgLoc(dangerPMY,\"x\")\n",
        "avgMYDPassSY = avgLoc(dangerPMY,\"y\")\n",
        "\n",
        "avgSYDPassSX = avgLoc(dangerPSY,\"x\")\n",
        "avgSYDPassSY = avgLoc(dangerPSY,\"y\")"
      ]
    },
    {
      "cell_type": "code",
      "execution_count": null,
      "metadata": {
        "id": "WiiJz1CcLFKs",
        "outputId": "419e2c20-eb95-45f4-d33b-f55ddcba2210"
      },
      "outputs": [],
      "source": [
        "# plotting the data using a scatter plot\n",
        "evolution(avgIYDPassSX,avgIYDPassSY,avgPYDPassSX,avgPYDPassSY,avgMYDPassSX,avgMYDPassSY,avgSYDPassSX,avgSYDPassSY,\n",
        "          \"Avg location from where Messi\\n attempted a Dangerous Pass \")"
      ]
    },
    {
      "cell_type": "markdown",
      "metadata": {
        "id": "s4FbVp5gLFKs"
      },
      "source": [
        "### Assists"
      ]
    },
    {
      "cell_type": "code",
      "execution_count": null,
      "metadata": {
        "id": "Y2W5e3nbLFKs"
      },
      "outputs": [],
      "source": [
        "# extractingall the assist info under different eras\n",
        "iyNumMatch = len(initialYears['match_id'].unique())\n",
        "pyNumMatch = len(pepYears['match_id'].unique())\n",
        "myNumMatch = len(msnYears['match_id'].unique())\n",
        "syNumMatch = len(swanSong['match_id'].unique())\n",
        "\n",
        "numMatches = [iyNumMatch,pyNumMatch,myNumMatch,syNumMatch]"
      ]
    },
    {
      "cell_type": "code",
      "execution_count": null,
      "metadata": {
        "id": "UMthRSltLFKs"
      },
      "outputs": [],
      "source": [
        "iyAOB = penaltyBox(iyAssists,'o')\n",
        "pyAOB = penaltyBox(pyAssists,'o')\n",
        "myAOB = penaltyBox(myAssists,'o')\n",
        "syAOB = penaltyBox(syAssists,'o')"
      ]
    },
    {
      "cell_type": "code",
      "execution_count": null,
      "metadata": {
        "id": "2wMo4jf8LFKs"
      },
      "outputs": [],
      "source": [
        "# calculating some statistics sucha as Assists per match, percentage of assist from outside the box, assist from inside the box and saving it in a data frame\n",
        "numAssists = [len(iyAssists),len(pyAssists),len(myAssists),len(syAssists)]\n",
        "\n",
        "assistsOB = [len(iyAOB),len(pyAOB),len(myAOB),len(syAOB)]\n",
        "\n",
        "centAOB = [round(len(iyAOB)/len(iyAssists)*100,2),round(len(pyAOB)/len(pyAssists)*100,2),\n",
        "           round(len(myAOB)/len(myAssists)*100,2),round(len(syAOB)/len(syAssists)*100,2)]\n",
        "\n",
        "aMatch = [round(len(iyAssists)/(iyNumMatch),2),round(len(pyAssists)/(pyNumMatch),2),\n",
        "          round(len(myAssists)/(myNumMatch),2),round(len(syAssists)/(syNumMatch),2)]\n",
        "\n",
        "aDict = {\"Era\":Era,\"Number of Assists\":numAssists, \"Assists from Outside the Box\":assistsOB,\n",
        "         \"Percentage Assists Outside the Box\":centAOB,\"Number of Matches\":numMatches, \"Assists Per Match\": aMatch}\n",
        "\n",
        "assists = pd.DataFrame(aDict)"
      ]
    },
    {
      "cell_type": "code",
      "execution_count": null,
      "metadata": {
        "id": "zQbezse2LFKs",
        "outputId": "d558f8b5-f300-424f-f725-d4c09add1bdb"
      },
      "outputs": [],
      "source": [
        "assists"
      ]
    },
    {
      "cell_type": "code",
      "execution_count": null,
      "metadata": {
        "id": "RSyoGQP8LFKs"
      },
      "outputs": [],
      "source": [
        "# players who recieved the most number of assists from Messi\n",
        "assisted = eventsMessi[eventsMessi['pass_goal_assist']==True]\n",
        "gSAssisted = assisted['pass_recipient'].value_counts().rename_axis('player_name').reset_index(name='counts').head(5)"
      ]
    },
    {
      "cell_type": "code",
      "execution_count": null,
      "metadata": {
        "id": "B-tFpNrtLFKs",
        "outputId": "0f5f55ec-6eb2-4050-ec06-f34cfd95de2d"
      },
      "outputs": [],
      "source": [
        "gSAssisted"
      ]
    },
    {
      "cell_type": "markdown",
      "metadata": {
        "id": "Vr1GkeRkLFKs"
      },
      "source": [
        "## Shooting"
      ]
    },
    {
      "cell_type": "code",
      "execution_count": null,
      "metadata": {
        "id": "uSIvrL59LFKt"
      },
      "outputs": [],
      "source": [
        "# extracting the shooting data under different eras\n",
        "iyShots = initialYears[initialYears['type']==\"Shot\"]\n",
        "pyShots = pepYears[pepYears['type']==\"Shot\"]\n",
        "myShots = msnYears[msnYears['type']==\"Shot\"]\n",
        "syShots = swanSong[swanSong['type']==\"Shot\"]"
      ]
    },
    {
      "cell_type": "code",
      "execution_count": null,
      "metadata": {
        "id": "MS8MUTp8LFKt"
      },
      "outputs": [],
      "source": [
        "iySOB = penaltyBox(iyShots,\"o\")\n",
        "pySOB = penaltyBox(pyShots,\"o\")\n",
        "mySOB = penaltyBox(myShots,\"o\")\n",
        "sySOB = penaltyBox(syShots,\"o\")\n",
        "\n",
        "iySB = penaltyBox(iyShots,\"in\")\n",
        "pySB = penaltyBox(pyShots,\"in\")\n",
        "mySB = penaltyBox(myShots,\"in\")\n",
        "sySB = penaltyBox(syShots,\"in\")"
      ]
    },
    {
      "cell_type": "code",
      "execution_count": null,
      "metadata": {
        "id": "_CizqnHVLFKt"
      },
      "outputs": [],
      "source": [
        "# calculating some stats related to shooting\n",
        "numShots = [len(iyShots),len(pyShots),len(myShots),len(syShots)]\n",
        "\n",
        "numShotsBox = [len(iySB),len(pySB),len(mySB),len(sySB)]\n",
        "\n",
        "numShotsOBox = [len(iySOB),len(pySOB),len(mySOB),len(sySOB)]\n",
        "\n",
        "centSOB = [round(len(iySOB)/len(iyShots)*100,2),round(len(pySOB)/len(pyShots)*100,2),\n",
        "           round(len(mySOB)/len(myShots)*100,2),round(len(sySOB)/len(syShots)*100,2)]\n",
        "\n",
        "sDict = {\"Era\":Era,\"Number of Shots\":numShots, \"Num Shots Inside Box\":numShotsBox,\n",
        "         \"Num Shots Outside Box\":numShotsOBox,\"'%'Shots Outside Box\":centSOB}\n",
        "\n",
        "shots = pd.DataFrame(sDict)"
      ]
    },
    {
      "cell_type": "code",
      "execution_count": null,
      "metadata": {
        "id": "KrCHOibjLFKt",
        "outputId": "515179c1-e5cd-45ab-e5b3-d352c9534492"
      },
      "outputs": [],
      "source": [
        "shots"
      ]
    },
    {
      "cell_type": "code",
      "execution_count": null,
      "metadata": {
        "id": "sfzWsMebLFKt"
      },
      "outputs": [],
      "source": [
        "# extracing the goals data under different eras\n",
        "iyGB = iyGoals[iyGoals['id'].isin(iySB['id'])]\n",
        "pyGB = pyGoals[pyGoals['id'].isin(pySB['id'])]\n",
        "myGB = myGoals[myGoals['id'].isin(mySB['id'])]\n",
        "syGB = syGoals[syGoals['id'].isin(sySB['id'])]\n",
        "\n",
        "iyGOB = iyGoals[iyGoals['id'].isin(iySOB['id'])]\n",
        "pyGOB = pyGoals[pyGoals['id'].isin(pySOB['id'])]\n",
        "myGOB = myGoals[myGoals['id'].isin(mySOB['id'])]\n",
        "syGOB = syGoals[syGoals['id'].isin(sySOB['id'])]"
      ]
    },
    {
      "cell_type": "code",
      "execution_count": null,
      "metadata": {
        "id": "kT-vDn2XLFKt"
      },
      "outputs": [],
      "source": [
        "iyTXg,iyBXg,iyOBXg = xG(iyShots)\n",
        "pyTXg,pyBXg,pyOBXg = xG(pyShots)\n",
        "myTXg,myBXg,myOBXg = xG(myShots)\n",
        "syTXg,syBXg,syOBXg = xG(syShots)"
      ]
    },
    {
      "cell_type": "code",
      "execution_count": null,
      "metadata": {
        "id": "xjI6ZCUzLFKt"
      },
      "outputs": [],
      "source": [
        "# calculating some stats related to goals scored such as expected goals per match, goals from outside the box, Overall accuracy of shooting  and saving the results in a data frame\n",
        "totXg = [iyTXg,pyTXg,myTXg,syTXg]\n",
        "\n",
        "numGoals = [len(iyGoals),len(pyGoals),len(myGoals),len(syGoals)]\n",
        "\n",
        "numShots = [len(iyShots),len(pyShots),len(myShots),len(syShots)]\n",
        "\n",
        "shootPC = [round(len(iyGoals)/len(iyShots)*100,2),round(len(pyGoals)/len(pyShots)*100,2),\n",
        "           round(len(myGoals)/len(myShots)*100,2),round(len(syGoals)/len(syShots)*100,2)]\n",
        "\n",
        "xgOP = [round(len(iyGoals)-iyTXg,2),round(len(pyGoals)-pyTXg,2),round(len(myGoals)-myTXg,2),\n",
        "        round(len(syGoals)-syTXg,2)]\n",
        "\n",
        "gMatch = [round(len(iyGoals)/(iyNumMatch),2),round(len(pyGoals)/(pyNumMatch),2),\n",
        "          round(len(myGoals)/(myNumMatch),2),round(len(syGoals)/(syNumMatch),2)]\n",
        "\n",
        "gDict = {\"Era\":Era,\"xG\":totXg, \"Number of Goals\":numGoals, \"Number of Shots\":numShots,\n",
        "         \"xG-OverPerformance\":xgOP,\"Shooting%\":shootPC,\"Num Matches\":numMatches,\"Goals per Match\":gMatch}\n",
        "\n",
        "goals = pd.DataFrame(gDict)"
      ]
    },
    {
      "cell_type": "code",
      "execution_count": null,
      "metadata": {
        "id": "qv7VVul6LFKt",
        "outputId": "9d92aa9c-a640-42fc-e561-b9ca1a5a943a"
      },
      "outputs": [],
      "source": [
        "goals"
      ]
    },
    {
      "cell_type": "code",
      "execution_count": null,
      "metadata": {
        "id": "kcJxhcAfLFKt"
      },
      "outputs": [],
      "source": [
        "# filtering goals from inside the box and saving the results in data frame\n",
        "\n",
        "xgBox = [iyBXg,pyBXg,myBXg,syBXg]\n",
        "\n",
        "numGBox = [len(iyGB),len(pyGB),len(myGB),len(syGB)]\n",
        "\n",
        "numSBox = [len(iySB),len(pySB),len(mySB),len(sySB)]\n",
        "\n",
        "boxSPC = [round(len(iyGB)/len(iyGoals)*100,2),round(len(pyGB)/len(pyGoals)*100,2),\n",
        "           round(len(myGB)/len(myGoals)*100,2),round(len(syGB)/len(syGoals)*100,2)]\n",
        "\n",
        "xgBOP = [round(len(iyGoals)-iyBXg,2),round(len(pyGoals)-pyBXg,2),round(len(myGoals)-myBXg,2),\n",
        "        round(len(syGoals)-syBXg,2)]\n",
        "\n",
        "gBDict = {\"Era\":Era,\"xG\":xgBox, \"Num Goals Inside Box\":numGBox, \"Num Shots Inside Box\":numSBox,\n",
        "         \"xG-OverPerformance\":xgBOP,\"'%'Goals Inside Box \":boxSPC}\n",
        "\n",
        "goalsBox = pd.DataFrame(gBDict)"
      ]
    },
    {
      "cell_type": "code",
      "execution_count": null,
      "metadata": {
        "id": "i04hDa0MLFKt",
        "outputId": "dd1e8d56-c362-460f-b125-3077b9a86ff1"
      },
      "outputs": [],
      "source": [
        "goalsBox"
      ]
    },
    {
      "cell_type": "code",
      "execution_count": null,
      "metadata": {
        "id": "RSERTf1aLFKt"
      },
      "outputs": [],
      "source": [
        "# filtering the goals scored from outside the box\n",
        "xgOB = [iyOBXg,pyOBXg,myOBXg,syOBXg]\n",
        "\n",
        "numGOB = [len(iyGOB),len(pyGOB),len(myGOB),len(syGOB)]\n",
        "\n",
        "numSOB = [len(iySOB),len(pySOB),len(mySOB),len(sySOB)]\n",
        "\n",
        "oBoxSPC = [round(len(iyGOB)/len(iySOB)*100,2),round(len(pyGOB)/len(pySOB)*100,2),\n",
        "           round(len(myGOB)/len(mySOB)*100,2),round(len(syGOB)/len(sySOB)*100,2)]\n",
        "\n",
        "xgOBOP = [round(len(iyGOB)-iyOBXg,2),round(len(pyGOB)-pyOBXg,2),round(len(myGOB)-myOBXg,2),\n",
        "        round(len(syGOB)-syOBXg,2)]\n",
        "\n",
        "gBDict = {\"Era\":Era,\"xG\":xgOB, \"Num Goals Outside Box\":numGOB, \"Num Shots Outside Box\":numSOB,\n",
        "         \"xG-OverPerformance\":xgOBOP,\"'%'Goals Outside Box \":oBoxSPC}\n",
        "\n",
        "goalsOBox = pd.DataFrame(gBDict)"
      ]
    },
    {
      "cell_type": "code",
      "execution_count": null,
      "metadata": {
        "id": "qeqWZFlNLFKt",
        "outputId": "e12623b9-ad5e-43d1-9e6b-780079372432"
      },
      "outputs": [],
      "source": [
        "goalsOBox"
      ]
    },
    {
      "cell_type": "code",
      "execution_count": null,
      "metadata": {
        "id": "jOtR8nJqLFKt"
      },
      "outputs": [],
      "source": [
        "# filtring the opponents against which most goals are scored\n",
        "gMatches = messiMatches[messiMatches['match_id'].isin(goalMID)]"
      ]
    },
    {
      "cell_type": "code",
      "execution_count": null,
      "metadata": {
        "id": "HxgcQbB8LFKu"
      },
      "outputs": [],
      "source": [
        "homeGM = gMatches[gMatches['home_team_name']=='Barcelona']\n",
        "awayGM = gMatches[gMatches['away_team_name']=='Barcelona']"
      ]
    },
    {
      "cell_type": "code",
      "execution_count": null,
      "metadata": {
        "id": "ip1CkH66LFKu"
      },
      "outputs": [],
      "source": [
        "goalsH = homeGM['away_team_name'].value_counts().rename_axis('opponent').reset_index(name='goals').head(5)\n",
        "goalsA = awayGM['home_team_name'].value_counts().rename_axis('opponent').reset_index(name='goals').head(5)"
      ]
    },
    {
      "cell_type": "code",
      "execution_count": null,
      "metadata": {
        "id": "Kl8mZ_IMLFKu",
        "outputId": "dad9963e-ef74-4c7b-a234-86f84dde17b2"
      },
      "outputs": [],
      "source": [
        "# at home ground most goals scored against top 5 opponents\n",
        "goalsH"
      ]
    },
    {
      "cell_type": "code",
      "execution_count": null,
      "metadata": {
        "id": "RZp_tOpwLFKu",
        "outputId": "26a500ac-cfc6-40fe-cc3c-4c26d8f23c0f"
      },
      "outputs": [],
      "source": [
        "# at aways grounds most goals scored against top 5 opponents\n",
        "goalsA"
      ]
    },
    {
      "cell_type": "code",
      "execution_count": null,
      "metadata": {
        "id": "qHIkCrsELFKu"
      },
      "outputs": [],
      "source": [
        "# opponsts against which most goals scored overall\n",
        "goalOpp = messiMatches['opponent'].value_counts().rename_axis('opponent').reset_index(name='goals')"
      ]
    },
    {
      "cell_type": "code",
      "execution_count": null,
      "metadata": {
        "id": "pUKgG8mfLFKu",
        "outputId": "eac22fec-72d2-4198-c7a1-62ce4a5f204b"
      },
      "outputs": [],
      "source": [
        "goalOpp.head(5)"
      ]
    },
    {
      "cell_type": "code",
      "execution_count": null,
      "metadata": {
        "id": "IrnpF5xvLFKu"
      },
      "outputs": [],
      "source": [
        "# creating a dictionary with the coordinates of all the citites in which Messi has scored goals\n",
        "\n",
        "cities = {\n",
        "    'Albacete': (38.6667, -1.8333),\n",
        "    'Alicante': (38.3500, -0.4667),\n",
        "    'Almería': (36.8833, -2.4167),\n",
        "    'Barcelona': (41.3825, 2.1769),\n",
        "    'Bilbao': (43.2569, -2.9236),\n",
        "    'Cádiz': (36.5000, -6.2500),\n",
        "    'Córdoba': (37.8845, -4.7796),\n",
        "    'Eibar': (43.3333, -2.2500),\n",
        "    'Elche': (38.0333, -0.4167),\n",
        "    'Getafe': (40.4167, -3.6833),\n",
        "    'Gijón': (43.5333, -5.7000),\n",
        "    'Girona': (41.9000, 2.8000),\n",
        "    'Granada': (37.1833, -3.6167),\n",
        "    'Huelva': (37.2167, -6.9167),\n",
        "    'Huesca': (42.2667, -0.1667),\n",
        "    'La Coruña': (43.3667, -8.4167),\n",
        "    'Las Palmas': (28.1272, -15.4314),\n",
        "    'Leganés': (40.3667, -3.7000),\n",
        "    'Madrid': (40.4169, -3.7033),\n",
        "    'Murcia': (37.9861, -1.1303),\n",
        "    'Málaga': (36.7201600, -4.4191800),\n",
        "    'Palma de Mallorca': (39.5667, 2.6500),\n",
        "    'Pamplona': (42.8174000, -1.6348300),\n",
        "    'San Sebastián': (43.2667, -1.9167),\n",
        "    'Santa Cruz de Tenerife': (28.4667, -16.2500),\n",
        "    'Santander': (43.4333, -3.8167),\n",
        "    'Sevilla': (37.2400, -5.9900),\n",
        "    'Soria': (41.6333, -2.2167),\n",
        "    'Tarragona': (41.1167, 1.1333),\n",
        "    'Valencia': (39.4700, -0.3764),\n",
        "    'Valladolid': (41.6528, -4.7236),\n",
        "    'Vigo': (42.2314, -8.7124),\n",
        "    'Villarreal': (39.8833, -0.0833),\n",
        "    'Vitoria-Gasteiz': (42.8733, -2.6500),\n",
        "    'Xerez': (36.7000, -6.3167),\n",
        "    'Zaragoza': (41.6500, -0.8833)\n",
        "}\n",
        "\n",
        "# mapping club names to the cities\n",
        "soccer_teams = {\n",
        "    \"Málaga\": \"Málaga\",\n",
        "    \"Osasuna\": \"Pamplona\",\n",
        "    \"Albacete\": \"Albacete\",\n",
        "    \"Levante UD\": \"Valencia\",\n",
        "    \"Getafe\": \"Getafe\",\n",
        "    \"Espanyol\": \"Barcelona\",\n",
        "    \"Deportivo Alavés\": \"Vitoria-Gasteiz\",\n",
        "    \"Villarreal\": \"Villarreal\",\n",
        "    \"Celta Vigo\": \"Vigo\",\n",
        "    \"Real Betis\": \"Sevilla\",\n",
        "    \"Racing Santander\": \"Santander\",\n",
        "    \"Real Zaragoza\": \"Zaragoza\",\n",
        "    \"Atlético Madrid\": \"Madrid\",\n",
        "    \"Mallorca\": \"Palma de Mallorca\",\n",
        "    \"Sevilla\": \"Sevilla\",\n",
        "    \"Real Madrid\": \"Madrid\",\n",
        "    \"Athletic Club\": \"Bilbao\",\n",
        "    \"Cádiz\": \"Cádiz\",\n",
        "    \"Gimnàstic Tarragona\": \"Tarragona\",\n",
        "    \"Valencia\": \"Valencia\",\n",
        "    \"Recreativo Huelva\": \"Huelva\",\n",
        "    \"RC Deportivo La Coruña\": \"La Coruña\",\n",
        "    \"Real Sociedad\": \"San Sebastián\",\n",
        "    \"Real Murcia CF\": \"Murcia\",\n",
        "    \"Almería\": \"Almería\",\n",
        "    \"Real Valladolid\": \"Valladolid\",\n",
        "    \"Sporting Gijón\": \"Gijón\",\n",
        "    \"CD Numancia de Soria\": \"Soria\",\n",
        "    \"Tenerife\": \"Santa Cruz de Tenerife\",\n",
        "    \"Xerez\": \"Xerez\",\n",
        "    \"Hércules\": \"Alicante\",\n",
        "    \"Rayo Vallecano\": \"Madrid\",\n",
        "    \"Granada\": \"Granada\",\n",
        "    \"Elche\": \"Elche\",\n",
        "    \"Eibar\": \"Eibar\",\n",
        "    \"Córdoba CF\": \"Córdoba\",\n",
        "    \"Las Palmas\": \"Las Palmas\",\n",
        "    \"Leganés\": \"Leganés\",\n",
        "    \"Girona\": \"Girona\",\n",
        "    \"Huesca\": \"Huesca\"\n",
        "}"
      ]
    },
    {
      "cell_type": "code",
      "execution_count": null,
      "metadata": {
        "id": "-0PSPZTXLFKu",
        "outputId": "77ab7bab-9dfd-4adc-e458-5c2c43b49d14"
      },
      "outputs": [],
      "source": [
        "# mapping the number of goals scored by Messi in each city with the help of club names\n",
        "team = pd.DataFrame([soccer_teams]).T.reset_index()\n",
        "team = team.set_axis(['opponent',\"city\"],axis=1)\n",
        "\n",
        "city = pd.DataFrame(cities).T.reset_index()\n",
        "city = city.set_axis(['city','x','y'],axis=1)\n",
        "\n",
        "goalOpp= pd.merge(goalOpp,team,left_on='opponent', right_on='opponent')\n",
        "\n",
        "goalCity= goalOpp.groupby(['city'])['goals'].sum().reset_index()\n",
        "\n",
        "goalCity.head(5)"
      ]
    },
    {
      "cell_type": "code",
      "execution_count": null,
      "metadata": {
        "id": "57_Dq-4SLFKu"
      },
      "outputs": [],
      "source": [
        "goalCity = pd.merge(goalCity,city,on='city')"
      ]
    },
    {
      "cell_type": "code",
      "execution_count": null,
      "metadata": {
        "id": "m53FZ8w6LFKu",
        "outputId": "e0d7d964-118b-430d-e337-82f568bd079b"
      },
      "outputs": [],
      "source": [
        "# plotting a map of Spain and showing the number of goals scored in each city based on the size of the circle\n",
        "map = folium.Map(location=[40.4637, -3.7492], zoom_start=5)\n",
        "\n",
        "\n",
        "for index,row in goalCity.iterrows():\n",
        "    folium.CircleMarker(location=(row.x, row.y), radius=row.goals, fill=True, popup=row.city+': '+str(row.goals)).add_to(map)\n",
        "\n",
        "\n",
        "map"
      ]
    }
  ],
  "metadata": {
    "colab": {
      "provenance": []
    },
    "kernelspec": {
      "display_name": "Python 3",
      "language": "python",
      "name": "python3"
    },
    "language_info": {
      "codemirror_mode": {
        "name": "ipython",
        "version": 3
      },
      "file_extension": ".py",
      "mimetype": "text/x-python",
      "name": "python",
      "nbconvert_exporter": "python",
      "pygments_lexer": "ipython3",
      "version": "3.11.5"
    }
  },
  "nbformat": 4,
  "nbformat_minor": 0
}
